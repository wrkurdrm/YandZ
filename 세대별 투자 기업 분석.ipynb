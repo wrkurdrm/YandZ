{
 "cells": [
  {
   "cell_type": "code",
   "execution_count": 34,
   "metadata": {},
   "outputs": [],
   "source": [
    "#필요한 라이브러리 불러오기\n",
    "import os\n",
    "import numpy as np\n",
    "import pandas as pd\n",
    "\n",
    "%matplotlib inline\n",
    "import matplotlib\n",
    "import matplotlib.pyplot as plt\n",
    "import seaborn as sns\n",
    "sn.set()\n",
    "plt.rcParams['axes.labelsize'] = 14\n",
    "plt.rcParams['xtick.labelsize'] = 12\n",
    "plt.rcParams['ytick.labelsize'] = 12\n",
    "\n",
    "# 한글출력\n",
    "#matplotlib.rc('font', family='AppleGothic')  # MacOS\n",
    "matplotlib.rc('font', family='Malgun Gothic')  # Windows\n",
    "plt.rcParams['axes.unicode_minus'] = False"
   ]
  },
  {
   "cell_type": "code",
   "execution_count": 7,
   "metadata": {},
   "outputs": [
    {
     "data": {
      "text/html": [
       "<div>\n",
       "<style scoped>\n",
       "    .dataframe tbody tr th:only-of-type {\n",
       "        vertical-align: middle;\n",
       "    }\n",
       "\n",
       "    .dataframe tbody tr th {\n",
       "        vertical-align: top;\n",
       "    }\n",
       "\n",
       "    .dataframe thead th {\n",
       "        text-align: right;\n",
       "    }\n",
       "</style>\n",
       "<table border=\"1\" class=\"dataframe\">\n",
       "  <thead>\n",
       "    <tr style=\"text-align: right;\">\n",
       "      <th></th>\n",
       "      <th>act_id</th>\n",
       "      <th>cus_id</th>\n",
       "      <th>act_opn_ym</th>\n",
       "    </tr>\n",
       "  </thead>\n",
       "  <tbody>\n",
       "    <tr>\n",
       "      <th>0</th>\n",
       "      <td>8e1a987ebef2a3374ba558aeda4c7821de7808a11cfea1...</td>\n",
       "      <td>892f41b5002a79c9c93992acf60682f5698372aea023bd...</td>\n",
       "      <td>197912</td>\n",
       "    </tr>\n",
       "    <tr>\n",
       "      <th>1</th>\n",
       "      <td>eb161b66263589c3f38efd2277cec2a9a81e1ffa0a5255...</td>\n",
       "      <td>006ad32069efb2a8ce1a99542dfe41cb14e8e75685278a...</td>\n",
       "      <td>198702</td>\n",
       "    </tr>\n",
       "    <tr>\n",
       "      <th>2</th>\n",
       "      <td>01866857515304e9e1315e54863cc1108e1d46fff0d467...</td>\n",
       "      <td>1925ed2d8ed2cad53997f5b24722482137c4d1da4b555e...</td>\n",
       "      <td>199109</td>\n",
       "    </tr>\n",
       "    <tr>\n",
       "      <th>3</th>\n",
       "      <td>63a58b0fee2fa4dc467c043fde465846b65705659497c5...</td>\n",
       "      <td>7829365dc463ed8275c8b92518d58b3c8d983f00f7bf87...</td>\n",
       "      <td>199401</td>\n",
       "    </tr>\n",
       "    <tr>\n",
       "      <th>4</th>\n",
       "      <td>b563fb76d3d432d67198f194701ca67e895da4c2f24e8e...</td>\n",
       "      <td>36e05dde058cf7531bd4001ed3b976ef9562a9ecd9f43d...</td>\n",
       "      <td>199404</td>\n",
       "    </tr>\n",
       "  </tbody>\n",
       "</table>\n",
       "</div>"
      ],
      "text/plain": [
       "                                              act_id  \\\n",
       "0  8e1a987ebef2a3374ba558aeda4c7821de7808a11cfea1...   \n",
       "1  eb161b66263589c3f38efd2277cec2a9a81e1ffa0a5255...   \n",
       "2  01866857515304e9e1315e54863cc1108e1d46fff0d467...   \n",
       "3  63a58b0fee2fa4dc467c043fde465846b65705659497c5...   \n",
       "4  b563fb76d3d432d67198f194701ca67e895da4c2f24e8e...   \n",
       "\n",
       "                                              cus_id  act_opn_ym  \n",
       "0  892f41b5002a79c9c93992acf60682f5698372aea023bd...      197912  \n",
       "1  006ad32069efb2a8ce1a99542dfe41cb14e8e75685278a...      198702  \n",
       "2  1925ed2d8ed2cad53997f5b24722482137c4d1da4b555e...      199109  \n",
       "3  7829365dc463ed8275c8b92518d58b3c8d983f00f7bf87...      199401  \n",
       "4  36e05dde058cf7531bd4001ed3b976ef9562a9ecd9f43d...      199404  "
      ]
     },
     "execution_count": 7,
     "metadata": {},
     "output_type": "execute_result"
    }
   ],
   "source": [
    "input_fd = open('../YNZ 투자자 공모전 리그2/리그2/2_act_info.csv',errors = 'backslashreplace',encoding='utf-8')\n",
    "act_info = pd.read_csv(input_fd)\n",
    "act_info.head()"
   ]
  },
  {
   "cell_type": "code",
   "execution_count": 8,
   "metadata": {},
   "outputs": [
    {
     "data": {
      "text/html": [
       "<div>\n",
       "<style scoped>\n",
       "    .dataframe tbody tr th:only-of-type {\n",
       "        vertical-align: middle;\n",
       "    }\n",
       "\n",
       "    .dataframe tbody tr th {\n",
       "        vertical-align: top;\n",
       "    }\n",
       "\n",
       "    .dataframe thead th {\n",
       "        text-align: right;\n",
       "    }\n",
       "</style>\n",
       "<table border=\"1\" class=\"dataframe\">\n",
       "  <thead>\n",
       "    <tr style=\"text-align: right;\">\n",
       "      <th></th>\n",
       "      <th>cus_id</th>\n",
       "      <th>sex_dit_cd</th>\n",
       "      <th>cus_age</th>\n",
       "      <th>zip_ctp_cd</th>\n",
       "      <th>tco_cus_grd_cd</th>\n",
       "      <th>ivs_icn_cd</th>\n",
       "    </tr>\n",
       "  </thead>\n",
       "  <tbody>\n",
       "    <tr>\n",
       "      <th>0</th>\n",
       "      <td>1eec7e43dd6ea34d6be7a9484459e4db1a2da44c5bf311...</td>\n",
       "      <td>2</td>\n",
       "      <td>20</td>\n",
       "      <td>29</td>\n",
       "      <td>04</td>\n",
       "      <td>-</td>\n",
       "    </tr>\n",
       "    <tr>\n",
       "      <th>1</th>\n",
       "      <td>7e50c268acce884b1a5b78c9b5645b517c4639413c6dc4...</td>\n",
       "      <td>2</td>\n",
       "      <td>0</td>\n",
       "      <td>41</td>\n",
       "      <td>09</td>\n",
       "      <td>-</td>\n",
       "    </tr>\n",
       "    <tr>\n",
       "      <th>2</th>\n",
       "      <td>36d3cd293c4b02a00103fa1ba33ffbee176173a55df75b...</td>\n",
       "      <td>1</td>\n",
       "      <td>70</td>\n",
       "      <td>27</td>\n",
       "      <td>03</td>\n",
       "      <td>-</td>\n",
       "    </tr>\n",
       "    <tr>\n",
       "      <th>3</th>\n",
       "      <td>96b6dea03dc71d9ddb1462e06fdba23def1ddc838debf7...</td>\n",
       "      <td>1</td>\n",
       "      <td>70</td>\n",
       "      <td>41</td>\n",
       "      <td>09</td>\n",
       "      <td>-</td>\n",
       "    </tr>\n",
       "    <tr>\n",
       "      <th>4</th>\n",
       "      <td>034eb5406bd021a9a88f046e33765efd5b3cd190b39538...</td>\n",
       "      <td>1</td>\n",
       "      <td>70</td>\n",
       "      <td>11</td>\n",
       "      <td>05</td>\n",
       "      <td>-</td>\n",
       "    </tr>\n",
       "  </tbody>\n",
       "</table>\n",
       "</div>"
      ],
      "text/plain": [
       "                                              cus_id  sex_dit_cd  cus_age  \\\n",
       "0  1eec7e43dd6ea34d6be7a9484459e4db1a2da44c5bf311...           2       20   \n",
       "1  7e50c268acce884b1a5b78c9b5645b517c4639413c6dc4...           2        0   \n",
       "2  36d3cd293c4b02a00103fa1ba33ffbee176173a55df75b...           1       70   \n",
       "3  96b6dea03dc71d9ddb1462e06fdba23def1ddc838debf7...           1       70   \n",
       "4  034eb5406bd021a9a88f046e33765efd5b3cd190b39538...           1       70   \n",
       "\n",
       "  zip_ctp_cd tco_cus_grd_cd ivs_icn_cd  \n",
       "0         29             04          -  \n",
       "1         41             09          -  \n",
       "2         27             03          -  \n",
       "3         41             09          -  \n",
       "4         11             05          -  "
      ]
     },
     "execution_count": 8,
     "metadata": {},
     "output_type": "execute_result"
    }
   ],
   "source": [
    "input_fd = open('../YNZ 투자자 공모전 리그2/리그2/2_cus_info.csv',errors = 'backslashreplace',encoding='utf-8')\n",
    "cus_info = pd.read_csv(input_fd)\n",
    "cus_info.head()"
   ]
  },
  {
   "cell_type": "code",
   "execution_count": 9,
   "metadata": {},
   "outputs": [
    {
     "data": {
      "text/html": [
       "<div>\n",
       "<style scoped>\n",
       "    .dataframe tbody tr th:only-of-type {\n",
       "        vertical-align: middle;\n",
       "    }\n",
       "\n",
       "    .dataframe tbody tr th {\n",
       "        vertical-align: top;\n",
       "    }\n",
       "\n",
       "    .dataframe thead th {\n",
       "        text-align: right;\n",
       "    }\n",
       "</style>\n",
       "<table border=\"1\" class=\"dataframe\">\n",
       "  <thead>\n",
       "    <tr style=\"text-align: right;\">\n",
       "      <th></th>\n",
       "      <th>iem_cd</th>\n",
       "      <th>iem_eng_nm</th>\n",
       "      <th>iem_krl_nm</th>\n",
       "    </tr>\n",
       "  </thead>\n",
       "  <tbody>\n",
       "    <tr>\n",
       "      <th>0</th>\n",
       "      <td>A000060</td>\n",
       "      <td>Meritz Fire &amp; Marine Insurance                ...</td>\n",
       "      <td>메리츠화재해상보험보통주                                  ...</td>\n",
       "    </tr>\n",
       "    <tr>\n",
       "      <th>1</th>\n",
       "      <td>A000120</td>\n",
       "      <td>CJ LOGISTICS                                  ...</td>\n",
       "      <td>씨제이대한통운보통주                                    ...</td>\n",
       "    </tr>\n",
       "    <tr>\n",
       "      <th>2</th>\n",
       "      <td>A000540</td>\n",
       "      <td>HeungkukFire&amp;MarineInsurance                  ...</td>\n",
       "      <td>흥국화재해상보험보통주                                   ...</td>\n",
       "    </tr>\n",
       "    <tr>\n",
       "      <th>3</th>\n",
       "      <td>A00088K</td>\n",
       "      <td>HANWHA(3PB)                                   ...</td>\n",
       "      <td>한화3우선주(신형)                                    ...</td>\n",
       "    </tr>\n",
       "    <tr>\n",
       "      <th>4</th>\n",
       "      <td>A000950</td>\n",
       "      <td>Chonbang                                      ...</td>\n",
       "      <td>전방보통주                                         ...</td>\n",
       "    </tr>\n",
       "  </tbody>\n",
       "</table>\n",
       "</div>"
      ],
      "text/plain": [
       "         iem_cd                                         iem_eng_nm  \\\n",
       "0  A000060       Meritz Fire & Marine Insurance                ...   \n",
       "1  A000120       CJ LOGISTICS                                  ...   \n",
       "2  A000540       HeungkukFire&MarineInsurance                  ...   \n",
       "3  A00088K       HANWHA(3PB)                                   ...   \n",
       "4  A000950       Chonbang                                      ...   \n",
       "\n",
       "                                          iem_krl_nm  \n",
       "0  메리츠화재해상보험보통주                                  ...  \n",
       "1  씨제이대한통운보통주                                    ...  \n",
       "2  흥국화재해상보험보통주                                   ...  \n",
       "3  한화3우선주(신형)                                    ...  \n",
       "4  전방보통주                                         ...  "
      ]
     },
     "execution_count": 9,
     "metadata": {},
     "output_type": "execute_result"
    }
   ],
   "source": [
    "input_fd = open('../YNZ 투자자 공모전 리그2/리그2/2_iem_info.csv',errors = 'backslashreplace',encoding='utf-8')\n",
    "iem_info = pd.read_csv(input_fd)\n",
    "iem_info.head()"
   ]
  },
  {
   "cell_type": "code",
   "execution_count": 10,
   "metadata": {},
   "outputs": [
    {
     "data": {
      "text/html": [
       "<div>\n",
       "<style scoped>\n",
       "    .dataframe tbody tr th:only-of-type {\n",
       "        vertical-align: middle;\n",
       "    }\n",
       "\n",
       "    .dataframe tbody tr th {\n",
       "        vertical-align: top;\n",
       "    }\n",
       "\n",
       "    .dataframe thead th {\n",
       "        text-align: right;\n",
       "    }\n",
       "</style>\n",
       "<table border=\"1\" class=\"dataframe\">\n",
       "  <thead>\n",
       "    <tr style=\"text-align: right;\">\n",
       "      <th></th>\n",
       "      <th>act_id</th>\n",
       "      <th>orr_dt</th>\n",
       "      <th>orr_ord</th>\n",
       "      <th>orr_rtn_hur</th>\n",
       "      <th>lst_cns_hur</th>\n",
       "      <th>iem_cd</th>\n",
       "      <th>sby_dit_cd</th>\n",
       "      <th>cns_qty</th>\n",
       "      <th>orr_pr</th>\n",
       "      <th>orr_mdi_dit_cd</th>\n",
       "    </tr>\n",
       "  </thead>\n",
       "  <tbody>\n",
       "    <tr>\n",
       "      <th>0</th>\n",
       "      <td>6caf4de40251d37cbba310f0c6dd0ed8f4c7ca4ccfa675...</td>\n",
       "      <td>20190102</td>\n",
       "      <td>1</td>\n",
       "      <td>12</td>\n",
       "      <td>13</td>\n",
       "      <td>A215600</td>\n",
       "      <td>2</td>\n",
       "      <td>35.0</td>\n",
       "      <td>74200.0</td>\n",
       "      <td>3</td>\n",
       "    </tr>\n",
       "    <tr>\n",
       "      <th>1</th>\n",
       "      <td>6caf4de40251d37cbba310f0c6dd0ed8f4c7ca4ccfa675...</td>\n",
       "      <td>20190102</td>\n",
       "      <td>2</td>\n",
       "      <td>12</td>\n",
       "      <td>12</td>\n",
       "      <td>A001060</td>\n",
       "      <td>2</td>\n",
       "      <td>20.0</td>\n",
       "      <td>41100.0</td>\n",
       "      <td>3</td>\n",
       "    </tr>\n",
       "    <tr>\n",
       "      <th>2</th>\n",
       "      <td>effb34815e1b7efb34beb550f604ede8ac71a5a71edb30...</td>\n",
       "      <td>20190102</td>\n",
       "      <td>1</td>\n",
       "      <td>14</td>\n",
       "      <td>14</td>\n",
       "      <td>A281820</td>\n",
       "      <td>2</td>\n",
       "      <td>20.0</td>\n",
       "      <td>9460.0</td>\n",
       "      <td>4</td>\n",
       "    </tr>\n",
       "    <tr>\n",
       "      <th>3</th>\n",
       "      <td>fea6c038cb7236a02d1e779262698a36219b4c9b527ab1...</td>\n",
       "      <td>20190102</td>\n",
       "      <td>1</td>\n",
       "      <td>12</td>\n",
       "      <td>12</td>\n",
       "      <td>A006650</td>\n",
       "      <td>2</td>\n",
       "      <td>1.0</td>\n",
       "      <td>148500.0</td>\n",
       "      <td>3</td>\n",
       "    </tr>\n",
       "    <tr>\n",
       "      <th>4</th>\n",
       "      <td>fea6c038cb7236a02d1e779262698a36219b4c9b527ab1...</td>\n",
       "      <td>20190102</td>\n",
       "      <td>2</td>\n",
       "      <td>12</td>\n",
       "      <td>13</td>\n",
       "      <td>A051360</td>\n",
       "      <td>2</td>\n",
       "      <td>10.0</td>\n",
       "      <td>6550.0</td>\n",
       "      <td>3</td>\n",
       "    </tr>\n",
       "  </tbody>\n",
       "</table>\n",
       "</div>"
      ],
      "text/plain": [
       "                                              act_id    orr_dt  orr_ord  \\\n",
       "0  6caf4de40251d37cbba310f0c6dd0ed8f4c7ca4ccfa675...  20190102        1   \n",
       "1  6caf4de40251d37cbba310f0c6dd0ed8f4c7ca4ccfa675...  20190102        2   \n",
       "2  effb34815e1b7efb34beb550f604ede8ac71a5a71edb30...  20190102        1   \n",
       "3  fea6c038cb7236a02d1e779262698a36219b4c9b527ab1...  20190102        1   \n",
       "4  fea6c038cb7236a02d1e779262698a36219b4c9b527ab1...  20190102        2   \n",
       "\n",
       "   orr_rtn_hur  lst_cns_hur        iem_cd  sby_dit_cd  cns_qty    orr_pr  \\\n",
       "0           12           13  A215600                2     35.0   74200.0   \n",
       "1           12           12  A001060                2     20.0   41100.0   \n",
       "2           14           14  A281820                2     20.0    9460.0   \n",
       "3           12           12  A006650                2      1.0  148500.0   \n",
       "4           12           13  A051360                2     10.0    6550.0   \n",
       "\n",
       "   orr_mdi_dit_cd  \n",
       "0               3  \n",
       "1               3  \n",
       "2               4  \n",
       "3               3  \n",
       "4               3  "
      ]
     },
     "execution_count": 10,
     "metadata": {},
     "output_type": "execute_result"
    }
   ],
   "source": [
    "input_fd = open('../YNZ 투자자 공모전 리그2/리그2/2_trd_kr.csv',errors = 'backslashreplace',encoding='utf-8')\n",
    "trd_kr = pd.read_csv(input_fd)\n",
    "trd_kr.head()"
   ]
  },
  {
   "cell_type": "code",
   "execution_count": 11,
   "metadata": {},
   "outputs": [
    {
     "data": {
      "text/html": [
       "<div>\n",
       "<style scoped>\n",
       "    .dataframe tbody tr th:only-of-type {\n",
       "        vertical-align: middle;\n",
       "    }\n",
       "\n",
       "    .dataframe tbody tr th {\n",
       "        vertical-align: top;\n",
       "    }\n",
       "\n",
       "    .dataframe thead th {\n",
       "        text-align: right;\n",
       "    }\n",
       "</style>\n",
       "<table border=\"1\" class=\"dataframe\">\n",
       "  <thead>\n",
       "    <tr style=\"text-align: right;\">\n",
       "      <th></th>\n",
       "      <th>act_id</th>\n",
       "      <th>orr_dt</th>\n",
       "      <th>orr_ord</th>\n",
       "      <th>orr_rtn_hur</th>\n",
       "      <th>lst_cns_hur</th>\n",
       "      <th>iem_cd</th>\n",
       "      <th>sby_dit_cd</th>\n",
       "      <th>cns_qty</th>\n",
       "      <th>orr_pr</th>\n",
       "      <th>orr_mdi_dit_cd</th>\n",
       "      <th>cur_cd</th>\n",
       "      <th>trd_cur_xcg_rt</th>\n",
       "    </tr>\n",
       "  </thead>\n",
       "  <tbody>\n",
       "    <tr>\n",
       "      <th>0</th>\n",
       "      <td>12c2bf5b4929fa3cb8b8aa7b45c0d000f7e3b868621b5b...</td>\n",
       "      <td>20190102</td>\n",
       "      <td>1</td>\n",
       "      <td>14</td>\n",
       "      <td>14</td>\n",
       "      <td>CNE100001526</td>\n",
       "      <td>2</td>\n",
       "      <td>100.0</td>\n",
       "      <td>49.1500</td>\n",
       "      <td>3</td>\n",
       "      <td>CNY</td>\n",
       "      <td>162.55</td>\n",
       "    </tr>\n",
       "    <tr>\n",
       "      <th>1</th>\n",
       "      <td>f51b1d8b13186e30aee7a407e235eb87b6b84ed85ca7a4...</td>\n",
       "      <td>20190102</td>\n",
       "      <td>1</td>\n",
       "      <td>1</td>\n",
       "      <td>1</td>\n",
       "      <td>US0378331005</td>\n",
       "      <td>2</td>\n",
       "      <td>10.0</td>\n",
       "      <td>157.6000</td>\n",
       "      <td>3</td>\n",
       "      <td>USD</td>\n",
       "      <td>1118.10</td>\n",
       "    </tr>\n",
       "    <tr>\n",
       "      <th>2</th>\n",
       "      <td>f51b1d8b13186e30aee7a407e235eb87b6b84ed85ca7a4...</td>\n",
       "      <td>20190102</td>\n",
       "      <td>2</td>\n",
       "      <td>1</td>\n",
       "      <td>1</td>\n",
       "      <td>US7561091049</td>\n",
       "      <td>2</td>\n",
       "      <td>2.0</td>\n",
       "      <td>61.9399</td>\n",
       "      <td>3</td>\n",
       "      <td>USD</td>\n",
       "      <td>1118.10</td>\n",
       "    </tr>\n",
       "    <tr>\n",
       "      <th>3</th>\n",
       "      <td>37bc7b62e55f0cf8402a1f86dc8d09b09a3028bb13afa6...</td>\n",
       "      <td>20190103</td>\n",
       "      <td>1</td>\n",
       "      <td>2</td>\n",
       "      <td>3</td>\n",
       "      <td>US9229083632</td>\n",
       "      <td>2</td>\n",
       "      <td>3.0</td>\n",
       "      <td>225.0000</td>\n",
       "      <td>3</td>\n",
       "      <td>USD</td>\n",
       "      <td>1119.00</td>\n",
       "    </tr>\n",
       "    <tr>\n",
       "      <th>4</th>\n",
       "      <td>e340482168a2154b323ec2b9a0d003d840590ddafb0e2b...</td>\n",
       "      <td>20190103</td>\n",
       "      <td>1</td>\n",
       "      <td>0</td>\n",
       "      <td>0</td>\n",
       "      <td>US74347X8314</td>\n",
       "      <td>1</td>\n",
       "      <td>6.0</td>\n",
       "      <td>34.5000</td>\n",
       "      <td>3</td>\n",
       "      <td>USD</td>\n",
       "      <td>1119.00</td>\n",
       "    </tr>\n",
       "  </tbody>\n",
       "</table>\n",
       "</div>"
      ],
      "text/plain": [
       "                                              act_id    orr_dt  orr_ord  \\\n",
       "0  12c2bf5b4929fa3cb8b8aa7b45c0d000f7e3b868621b5b...  20190102        1   \n",
       "1  f51b1d8b13186e30aee7a407e235eb87b6b84ed85ca7a4...  20190102        1   \n",
       "2  f51b1d8b13186e30aee7a407e235eb87b6b84ed85ca7a4...  20190102        2   \n",
       "3  37bc7b62e55f0cf8402a1f86dc8d09b09a3028bb13afa6...  20190103        1   \n",
       "4  e340482168a2154b323ec2b9a0d003d840590ddafb0e2b...  20190103        1   \n",
       "\n",
       "   orr_rtn_hur  lst_cns_hur        iem_cd  sby_dit_cd  cns_qty    orr_pr  \\\n",
       "0           14           14  CNE100001526           2    100.0   49.1500   \n",
       "1            1            1  US0378331005           2     10.0  157.6000   \n",
       "2            1            1  US7561091049           2      2.0   61.9399   \n",
       "3            2            3  US9229083632           2      3.0  225.0000   \n",
       "4            0            0  US74347X8314           1      6.0   34.5000   \n",
       "\n",
       "   orr_mdi_dit_cd cur_cd  trd_cur_xcg_rt  \n",
       "0               3    CNY          162.55  \n",
       "1               3    USD         1118.10  \n",
       "2               3    USD         1118.10  \n",
       "3               3    USD         1119.00  \n",
       "4               3    USD         1119.00  "
      ]
     },
     "execution_count": 11,
     "metadata": {},
     "output_type": "execute_result"
    }
   ],
   "source": [
    "input_fd = open('../YNZ 투자자 공모전 리그2/리그2/2_trd_oss.csv',errors = 'backslashreplace',encoding='utf-8')\n",
    "trd_oss = pd.read_csv(input_fd)\n",
    "trd_oss.head()"
   ]
  },
  {
   "cell_type": "code",
   "execution_count": 26,
   "metadata": {},
   "outputs": [],
   "source": [
    "#테이블 병합(국내기업 투자 데이터)\n",
    "iem_trd = pd.merge(trd_kr, iem_info, on = 'iem_cd', how = 'left')\n",
    "iem_trd_act = pd.merge(iem_trd, act_info, on = 'act_id', how = 'left')\n",
    "iem_trd_act_cus = pd.merge(iem_trd_act, cus_info, on = 'cus_id', how = 'left')"
   ]
  },
  {
   "cell_type": "code",
   "execution_count": 13,
   "metadata": {},
   "outputs": [],
   "source": [
    "#20대\n",
    "iem_trd_act_cus_20 = iem_trd_act_cus[(iem_trd_act_cus['cus_age']==20) | (iem_trd_act_cus['cus_age']==25)]\n",
    "iem_trd_act_cus_20.reset_index(drop = True, inplace = True)"
   ]
  },
  {
   "cell_type": "code",
   "execution_count": 15,
   "metadata": {},
   "outputs": [],
   "source": [
    "#30대\n",
    "iem_trd_act_cus_30 = iem_trd_act_cus[(iem_trd_act_cus['cus_age'] == 30) | (iem_trd_act_cus['cus_age'] == 35)]\n",
    "iem_trd_act_cus_30.reset_index(drop = True, inplace = True)"
   ]
  },
  {
   "cell_type": "code",
   "execution_count": 16,
   "metadata": {},
   "outputs": [],
   "source": [
    "#기성세대(40대 이상)\n",
    "iem_trd_act_cus_older = iem_trd_act_cus[(iem_trd_act_cus['cus_age'] >= 40)]\n",
    "iem_trd_act_cus_older.reset_index(drop = True, inplace = True)"
   ]
  },
  {
   "cell_type": "markdown",
   "metadata": {},
   "source": [
    "전체 연령대/20대/30대/기성세대가 가장 많이 투자하는 기업 top20을 뽑아보고 각 세대별 특징이 있는지 조사한다."
   ]
  },
  {
   "cell_type": "code",
   "execution_count": 56,
   "metadata": {},
   "outputs": [
    {
     "data": {
      "text/plain": [
       "삼성전자보통주                                                         64253\n",
       "케이씨그린홀딩스보통주                                                     59403\n",
       "한창보통주                                                           45322\n",
       "에이치엠엠보통주                                                        37722\n",
       "삼성 KODEX 200선물인버스2X증권상장지수투자신탁(주식-파생형)                           31945\n",
       "미래산업보통주                                                         27254\n",
       "홈캐스트                                                            26688\n",
       "삼성KODEX레버리지증권상장지수투자신탁[주식-파생형]                                   25215\n",
       "에스케이하이닉스보통주                                                     21063\n",
       "파미셀보통주                                                          18665\n",
       "셀트리온보통주                                                         18523\n",
       "남선알미늄보통주                                                        18459\n",
       "에이치엘비                                                           17734\n",
       "신라젠                                                             17511\n",
       "씨젠                                                              17482\n",
       "삼성 KODEX 코스닥150 레버리지증권상장지수투자신탁(주식-파생                            17195\n",
       "신풍제약보통주                                                         16882\n",
       "카카오보통주                                                          16206\n",
       "국일제지                                                            15911\n",
       "데코앤이                                                            14652\n",
       "Name: iem_krl_nm, dtype: int64"
      ]
     },
     "execution_count": 56,
     "metadata": {},
     "output_type": "execute_result"
    }
   ],
   "source": [
    "#전체 연령대 top20 기업(국내)\n",
    "iem_trd_act_cus['iem_krl_nm'].value_counts().head(20)"
   ]
  },
  {
   "cell_type": "code",
   "execution_count": 47,
   "metadata": {},
   "outputs": [
    {
     "name": "stdout",
     "output_type": "stream",
     "text": [
      "삼성전자보통주                                                         4980\n",
      "삼성 KODEX 200선물인버스2X증권상장지수투자신탁(주식-파생형)                           3919\n",
      "삼성KODEX레버리지증권상장지수투자신탁[주식-파생형]                                   1889\n",
      "남선알미늄보통주                                                        1871\n",
      "씨젠                                                              1722\n",
      "에스케이하이닉스보통주                                                     1597\n",
      "카카오보통주                                                          1507\n",
      "아난티                                                             1400\n",
      "현대자동차보통주                                                        1349\n",
      "한진칼보통주                                                          1347\n",
      "국일제지                                                            1340\n",
      "삼성전자1우선주                                                        1331\n",
      "빅텍                                                              1320\n",
      "파미셀보통주                                                          1250\n",
      "디피씨보통주                                                          1205\n",
      "와이비엠넷                                                           1148\n",
      "웰크론                                                             1027\n",
      "신풍제약보통주                                                         1027\n",
      "이원다이애그노믹스                                                       1008\n",
      "두산퓨얼셀보통주                                                         983\n",
      "Name: iem_krl_nm, dtype: int64\n"
     ]
    }
   ],
   "source": [
    "#20대가 투자하는 top20 기업(국내)\n",
    "iem_trd_act_cus_20_top10=iem_trd_act_cus_20['iem_krl_nm'].value_counts().head(20)\n",
    "print(iem_trd_act_cus_20_top10)"
   ]
  },
  {
   "cell_type": "code",
   "execution_count": 48,
   "metadata": {},
   "outputs": [
    {
     "data": {
      "text/plain": [
       "삼성전자보통주                                                         11215\n",
       "삼성 KODEX 200선물인버스2X증권상장지수투자신탁(주식-파생형)                           10932\n",
       "삼성 KODEX 코스닥150 레버리지증권상장지수투자신탁(주식-파생                             9456\n",
       "삼성KODEX레버리지증권상장지수투자신탁[주식-파생형]                                    7542\n",
       "에이치엘비                                                            6787\n",
       "에스케이하이닉스보통주                                                      4053\n",
       "파미셀보통주                                                           3851\n",
       "씨젠                                                               3849\n",
       "국일제지                                                             3813\n",
       "웰크론                                                              3627\n",
       "남선알미늄보통주                                                         3405\n",
       "한진칼보통주                                                           3329\n",
       "셀트리온헬스케어                                                         3283\n",
       "아난티                                                              3217\n",
       "디피씨보통주                                                           3198\n",
       "신풍제약보통주                                                          3003\n",
       "카카오보통주                                                           2867\n",
       "삼성전자1우선주                                                         2845\n",
       "빅텍                                                               2570\n",
       "삼성 KODEX WTI원유선물특별자산상장지수투자신탁[원유-파생형](                            2556\n",
       "Name: iem_krl_nm, dtype: int64"
      ]
     },
     "execution_count": 48,
     "metadata": {},
     "output_type": "execute_result"
    }
   ],
   "source": [
    "#30대가 투자하는 top20 기업(국내)\n",
    "iem_trd_act_cus_30['iem_krl_nm'].value_counts().head(20)"
   ]
  },
  {
   "cell_type": "code",
   "execution_count": 49,
   "metadata": {},
   "outputs": [
    {
     "data": {
      "text/plain": [
       "케이씨그린홀딩스보통주                                                     59301\n",
       "삼성전자보통주                                                         47050\n",
       "한창보통주                                                           44263\n",
       "에이치엠엠보통주                                                        36978\n",
       "미래산업보통주                                                         26561\n",
       "홈캐스트                                                            26555\n",
       "삼성 KODEX 200선물인버스2X증권상장지수투자신탁(주식-파생형)                           17088\n",
       "삼성KODEX레버리지증권상장지수투자신탁[주식-파생형]                                   15777\n",
       "셀트리온보통주                                                         15465\n",
       "에스케이하이닉스보통주                                                     15358\n",
       "데코앤이                                                            14595\n",
       "신라젠                                                             14572\n",
       "파미셀보통주                                                          13544\n",
       "남선알미늄보통주                                                        13156\n",
       "신풍제약보통주                                                         12812\n",
       "씨젠                                                              11868\n",
       "카카오보통주                                                          11776\n",
       "케이엠더블유                                                          10962\n",
       "국일제지                                                            10647\n",
       "삼성전기보통주                                                         10499\n",
       "Name: iem_krl_nm, dtype: int64"
      ]
     },
     "execution_count": 49,
     "metadata": {},
     "output_type": "execute_result"
    }
   ],
   "source": [
    "#기성세대가 투자하는 top20 기업(국내)\n",
    "iem_trd_act_cus_older['iem_krl_nm'].value_counts().head(20)"
   ]
  },
  {
   "cell_type": "markdown",
   "metadata": {},
   "source": [
    "국내기업에서는 삼성전자보통주가 모든 세대에서 1, 2위를 차지함. 기성세대로 갈수록 주식투자하는 사람이 많아짐. 20대의 경우 위 세대에 비해 카카오보통주에 투자하는 비율이 더 높게 나타남. '씨젠'이라는 기업은 시약 및 의료용품 제조업체로, 코로나바이러스감염증-19의 진단 키트를 세계 최초로 개발해낸 회사로 잘 알려져 있다. 전 세대에 걸쳐 씨젠이 순위권에 들어가는 것은 코로나19의 영향이 주식시장에도 큰 영향을 준다는 것으로 보임."
   ]
  },
  {
   "cell_type": "code",
   "execution_count": 27,
   "metadata": {},
   "outputs": [],
   "source": [
    "#테이블 병합(해외기업 투자 데이터)\n",
    "iem_trd = pd.merge(trd_oss, iem_info, on = 'iem_cd', how = 'left')\n",
    "iem_trd_act_oss = pd.merge(iem_trd, act_info, on = 'act_id', how = 'left')\n",
    "iem_trd_act_cus_oss = pd.merge(iem_trd_act_oss, cus_info, on = 'cus_id', how = 'left')"
   ]
  },
  {
   "cell_type": "code",
   "execution_count": 28,
   "metadata": {},
   "outputs": [],
   "source": [
    "#20대\n",
    "iem_trd_act_cus_20_oss = iem_trd_act_cus_oss[(iem_trd_act_cus_oss['cus_age']==20) | (iem_trd_act_cus_oss['cus_age']==25)]\n",
    "iem_trd_act_cus_20_oss.reset_index(drop = True, inplace = True)"
   ]
  },
  {
   "cell_type": "code",
   "execution_count": 29,
   "metadata": {},
   "outputs": [],
   "source": [
    "#30대\n",
    "iem_trd_act_cus_30_oss = iem_trd_act_cus_oss[(iem_trd_act_cus_oss['cus_age']==30) | (iem_trd_act_cus_oss['cus_age']==35)]\n",
    "iem_trd_act_cus_30_oss.reset_index(drop = True, inplace = True)"
   ]
  },
  {
   "cell_type": "code",
   "execution_count": 30,
   "metadata": {},
   "outputs": [],
   "source": [
    "#기성세대\n",
    "iem_trd_act_cus_older_oss = iem_trd_act_cus_oss[(iem_trd_act_cus_oss['cus_age']>=40)]\n",
    "iem_trd_act_cus_older_oss.reset_index(drop = True, inplace = True)"
   ]
  },
  {
   "cell_type": "code",
   "execution_count": 50,
   "metadata": {},
   "outputs": [
    {
     "data": {
      "text/plain": [
       "마이크로소프트                                                         1007\n",
       "델타 에어라인스                                                         875\n",
       "애플                                                               756\n",
       "AT&T                                                             710\n",
       "월트 디즈니                                                           654\n",
       "테슬라                                                              651\n",
       "스타벅스                                                             489\n",
       "보잉                                                               488\n",
       "코카콜라                                                             483\n",
       "리얼티 인컴                                                           414\n",
       "AMD                                                              410\n",
       "ProShares:UltP Sht QQQ                                           353\n",
       "알파벳 CLASS A (voting)                                             297\n",
       "MICRSECTRS US BIG OIL IDX 3X LVG ETN                             289\n",
       "EPR 프로퍼티스                                                        277\n",
       "CS VELOCITYSHARES 3X LNG NTRL GS ETN                             274\n",
       "카니발                                                              263\n",
       "인텔                                                               253\n",
       "Virgin Galactic Holdings                                         243\n",
       "아머 레지덴셜 리츠                                                       234\n",
       "Name: iem_krl_nm, dtype: int64"
      ]
     },
     "execution_count": 50,
     "metadata": {},
     "output_type": "execute_result"
    }
   ],
   "source": [
    "#전체 연령대 top20 기업(해외)\n",
    "iem_trd_act_cus_oss['iem_krl_nm'].value_counts().head(20)"
   ]
  },
  {
   "cell_type": "code",
   "execution_count": 45,
   "metadata": {},
   "outputs": [
    {
     "data": {
      "text/plain": [
       "델타 에어라인스                                                        255\n",
       "AMD                                                             231\n",
       "퍼스트 머제스틱 실버                                                     222\n",
       "테슬라                                                             206\n",
       "마이크로소프트                                                         203\n",
       "코카콜라                                                            187\n",
       "월트 디즈니                                                          177\n",
       "AT&T                                                            172\n",
       "보잉                                                              156\n",
       "ProShares:UltP Sht QQQ                                          154\n",
       "애플                                                              148\n",
       "Virgin Galactic Holdings                                        129\n",
       "스타벅스                                                            127\n",
       "MICRSECTRS US BIG OIL IDX 3X LVG ETN                            119\n",
       "Luckin Coffee                                                   109\n",
       "카니발                                                             105\n",
       "엑슨 모빌                                                            99\n",
       "Uber                                                             91\n",
       "인텔                                                               88\n",
       "프로셰어즈 울트라프로 QQQ                                                  83\n",
       "Name: iem_krl_nm, dtype: int64"
      ]
     },
     "execution_count": 45,
     "metadata": {},
     "output_type": "execute_result"
    }
   ],
   "source": [
    "#20대가 투자하는 top20 기업(해외)\n",
    "iem_trd_act_cus_20_oss['iem_krl_nm'].value_counts().head(20)"
   ]
  },
  {
   "cell_type": "code",
   "execution_count": 52,
   "metadata": {},
   "outputs": [
    {
     "data": {
      "text/plain": [
       "델타 에어라인스                                                        321\n",
       "마이크로소프트                                                         268\n",
       "보잉                                                              221\n",
       "EPR 프로퍼티스                                                       216\n",
       "아머 레지덴셜 리츠                                                      201\n",
       "애플                                                              197\n",
       "테슬라                                                             189\n",
       "월트 디즈니                                                          173\n",
       "AT&T                                                            171\n",
       "코카콜라                                                            148\n",
       "뱅가드토탈스톡마켓ETF                                                    132\n",
       "ProShares:UltP Sht QQQ                                          129\n",
       "AMD                                                             123\n",
       "리얼티 인컴                                                          116\n",
       "카니발                                                             115\n",
       "스타벅스                                                            104\n",
       "사이먼 프로퍼티 그룹                                                     102\n",
       "파크 호텔스 & 리조츠                                                    102\n",
       "메인 스트리트 캐피털                                                      81\n",
       "MICRSECTRS US BIG OIL IDX 3X LVG ETN                             80\n",
       "Name: iem_krl_nm, dtype: int64"
      ]
     },
     "execution_count": 52,
     "metadata": {},
     "output_type": "execute_result"
    }
   ],
   "source": [
    "#30대가 투자하는 top20 기업(해외)\n",
    "iem_trd_act_cus_30_oss['iem_krl_nm'].value_counts().head(20)"
   ]
  },
  {
   "cell_type": "code",
   "execution_count": 53,
   "metadata": {},
   "outputs": [
    {
     "data": {
      "text/plain": [
       "마이크로소프트                                                         505\n",
       "애플                                                              393\n",
       "AT&T                                                            360\n",
       "델타 에어라인스                                                        298\n",
       "월트 디즈니                                                          293\n",
       "리얼티 인컴                                                          261\n",
       "테슬라                                                             253\n",
       "스타벅스                                                            248\n",
       "CS VELOCITYSHARES 3X LNG NTRL GS ETN                            232\n",
       "아이셰어즈 실버 트러스트                                                   207\n",
       "알파벳 CLASS A (voting)                                            162\n",
       "인텔                                                              145\n",
       "코카콜라                                                            134\n",
       "페이스북                                                            133\n",
       "인베스코 QQQ 트러스트 시리즈 1                                             123\n",
       "아이셰어즈20+이어트레저리본드ETF                                             116\n",
       "US 글로벌 제츠 ETF                                                   115\n",
       "INVESCO S&P 500 HIGH DIVIDEND LOW VOL                           115\n",
       "PhaseBio Pharmaceuticals, Inc.                                  114\n",
       "보잉                                                              111\n",
       "Name: iem_krl_nm, dtype: int64"
      ]
     },
     "execution_count": 53,
     "metadata": {},
     "output_type": "execute_result"
    }
   ],
   "source": [
    "#기성세대가 투자하는 top20 기업(해외)\n",
    "iem_trd_act_cus_older_oss['iem_krl_nm'].value_counts().head(20)"
   ]
  }
 ],
 "metadata": {
  "kernelspec": {
   "display_name": "Python 3",
   "language": "python",
   "name": "python3"
  },
  "language_info": {
   "codemirror_mode": {
    "name": "ipython",
    "version": 3
   },
   "file_extension": ".py",
   "mimetype": "text/x-python",
   "name": "python",
   "nbconvert_exporter": "python",
   "pygments_lexer": "ipython3",
   "version": "3.8.3"
  }
 },
 "nbformat": 4,
 "nbformat_minor": 4
}
