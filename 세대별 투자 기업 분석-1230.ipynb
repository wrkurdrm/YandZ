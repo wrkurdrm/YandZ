{
 "cells": [
  {
   "cell_type": "code",
   "execution_count": 2,
   "metadata": {},
   "outputs": [],
   "source": [
    "#필요한 라이브러리 불러오기\n",
    "import os\n",
    "import numpy as np\n",
    "import pandas as pd\n",
    "\n",
    "%matplotlib inline\n",
    "import matplotlib\n",
    "import matplotlib.pyplot as plt\n",
    "import seaborn as sns\n",
    "sns.set()\n",
    "plt.rcParams['axes.labelsize'] = 14\n",
    "plt.rcParams['xtick.labelsize'] = 12\n",
    "plt.rcParams['ytick.labelsize'] = 12\n",
    "\n",
    "# 한글출력\n",
    "#matplotlib.rc('font', family='AppleGothic')  # MacOS\n",
    "matplotlib.rc('font', family='Malgun Gothic')  # Windows\n",
    "plt.rcParams['axes.unicode_minus'] = False"
   ]
  },
  {
   "cell_type": "markdown",
   "metadata": {},
   "source": [
    "### 0. 데이터 불러오기 및 살펴보기"
   ]
  },
  {
   "cell_type": "code",
   "execution_count": 3,
   "metadata": {},
   "outputs": [
    {
     "data": {
      "text/html": [
       "<div>\n",
       "<style scoped>\n",
       "    .dataframe tbody tr th:only-of-type {\n",
       "        vertical-align: middle;\n",
       "    }\n",
       "\n",
       "    .dataframe tbody tr th {\n",
       "        vertical-align: top;\n",
       "    }\n",
       "\n",
       "    .dataframe thead th {\n",
       "        text-align: right;\n",
       "    }\n",
       "</style>\n",
       "<table border=\"1\" class=\"dataframe\">\n",
       "  <thead>\n",
       "    <tr style=\"text-align: right;\">\n",
       "      <th></th>\n",
       "      <th>act_id</th>\n",
       "      <th>cus_id</th>\n",
       "      <th>act_opn_ym</th>\n",
       "    </tr>\n",
       "  </thead>\n",
       "  <tbody>\n",
       "    <tr>\n",
       "      <th>0</th>\n",
       "      <td>8e1a987ebef2a3374ba558aeda4c7821de7808a11cfea1...</td>\n",
       "      <td>892f41b5002a79c9c93992acf60682f5698372aea023bd...</td>\n",
       "      <td>197912</td>\n",
       "    </tr>\n",
       "    <tr>\n",
       "      <th>1</th>\n",
       "      <td>eb161b66263589c3f38efd2277cec2a9a81e1ffa0a5255...</td>\n",
       "      <td>006ad32069efb2a8ce1a99542dfe41cb14e8e75685278a...</td>\n",
       "      <td>198702</td>\n",
       "    </tr>\n",
       "    <tr>\n",
       "      <th>2</th>\n",
       "      <td>01866857515304e9e1315e54863cc1108e1d46fff0d467...</td>\n",
       "      <td>1925ed2d8ed2cad53997f5b24722482137c4d1da4b555e...</td>\n",
       "      <td>199109</td>\n",
       "    </tr>\n",
       "    <tr>\n",
       "      <th>3</th>\n",
       "      <td>63a58b0fee2fa4dc467c043fde465846b65705659497c5...</td>\n",
       "      <td>7829365dc463ed8275c8b92518d58b3c8d983f00f7bf87...</td>\n",
       "      <td>199401</td>\n",
       "    </tr>\n",
       "    <tr>\n",
       "      <th>4</th>\n",
       "      <td>b563fb76d3d432d67198f194701ca67e895da4c2f24e8e...</td>\n",
       "      <td>36e05dde058cf7531bd4001ed3b976ef9562a9ecd9f43d...</td>\n",
       "      <td>199404</td>\n",
       "    </tr>\n",
       "  </tbody>\n",
       "</table>\n",
       "</div>"
      ],
      "text/plain": [
       "                                              act_id  \\\n",
       "0  8e1a987ebef2a3374ba558aeda4c7821de7808a11cfea1...   \n",
       "1  eb161b66263589c3f38efd2277cec2a9a81e1ffa0a5255...   \n",
       "2  01866857515304e9e1315e54863cc1108e1d46fff0d467...   \n",
       "3  63a58b0fee2fa4dc467c043fde465846b65705659497c5...   \n",
       "4  b563fb76d3d432d67198f194701ca67e895da4c2f24e8e...   \n",
       "\n",
       "                                              cus_id  act_opn_ym  \n",
       "0  892f41b5002a79c9c93992acf60682f5698372aea023bd...      197912  \n",
       "1  006ad32069efb2a8ce1a99542dfe41cb14e8e75685278a...      198702  \n",
       "2  1925ed2d8ed2cad53997f5b24722482137c4d1da4b555e...      199109  \n",
       "3  7829365dc463ed8275c8b92518d58b3c8d983f00f7bf87...      199401  \n",
       "4  36e05dde058cf7531bd4001ed3b976ef9562a9ecd9f43d...      199404  "
      ]
     },
     "execution_count": 3,
     "metadata": {},
     "output_type": "execute_result"
    }
   ],
   "source": [
    "input_fd = open('../YNZ 투자자 공모전 리그2/리그2/2_act_info.csv',errors = 'backslashreplace',encoding='utf-8')\n",
    "act_info = pd.read_csv(input_fd)\n",
    "act_info.head()"
   ]
  },
  {
   "cell_type": "code",
   "execution_count": 4,
   "metadata": {},
   "outputs": [
    {
     "data": {
      "text/html": [
       "<div>\n",
       "<style scoped>\n",
       "    .dataframe tbody tr th:only-of-type {\n",
       "        vertical-align: middle;\n",
       "    }\n",
       "\n",
       "    .dataframe tbody tr th {\n",
       "        vertical-align: top;\n",
       "    }\n",
       "\n",
       "    .dataframe thead th {\n",
       "        text-align: right;\n",
       "    }\n",
       "</style>\n",
       "<table border=\"1\" class=\"dataframe\">\n",
       "  <thead>\n",
       "    <tr style=\"text-align: right;\">\n",
       "      <th></th>\n",
       "      <th>cus_id</th>\n",
       "      <th>sex_dit_cd</th>\n",
       "      <th>cus_age</th>\n",
       "      <th>zip_ctp_cd</th>\n",
       "      <th>tco_cus_grd_cd</th>\n",
       "      <th>ivs_icn_cd</th>\n",
       "    </tr>\n",
       "  </thead>\n",
       "  <tbody>\n",
       "    <tr>\n",
       "      <th>0</th>\n",
       "      <td>1eec7e43dd6ea34d6be7a9484459e4db1a2da44c5bf311...</td>\n",
       "      <td>2</td>\n",
       "      <td>20</td>\n",
       "      <td>29</td>\n",
       "      <td>04</td>\n",
       "      <td>-</td>\n",
       "    </tr>\n",
       "    <tr>\n",
       "      <th>1</th>\n",
       "      <td>7e50c268acce884b1a5b78c9b5645b517c4639413c6dc4...</td>\n",
       "      <td>2</td>\n",
       "      <td>0</td>\n",
       "      <td>41</td>\n",
       "      <td>09</td>\n",
       "      <td>-</td>\n",
       "    </tr>\n",
       "    <tr>\n",
       "      <th>2</th>\n",
       "      <td>36d3cd293c4b02a00103fa1ba33ffbee176173a55df75b...</td>\n",
       "      <td>1</td>\n",
       "      <td>70</td>\n",
       "      <td>27</td>\n",
       "      <td>03</td>\n",
       "      <td>-</td>\n",
       "    </tr>\n",
       "    <tr>\n",
       "      <th>3</th>\n",
       "      <td>96b6dea03dc71d9ddb1462e06fdba23def1ddc838debf7...</td>\n",
       "      <td>1</td>\n",
       "      <td>70</td>\n",
       "      <td>41</td>\n",
       "      <td>09</td>\n",
       "      <td>-</td>\n",
       "    </tr>\n",
       "    <tr>\n",
       "      <th>4</th>\n",
       "      <td>034eb5406bd021a9a88f046e33765efd5b3cd190b39538...</td>\n",
       "      <td>1</td>\n",
       "      <td>70</td>\n",
       "      <td>11</td>\n",
       "      <td>05</td>\n",
       "      <td>-</td>\n",
       "    </tr>\n",
       "  </tbody>\n",
       "</table>\n",
       "</div>"
      ],
      "text/plain": [
       "                                              cus_id  sex_dit_cd  cus_age  \\\n",
       "0  1eec7e43dd6ea34d6be7a9484459e4db1a2da44c5bf311...           2       20   \n",
       "1  7e50c268acce884b1a5b78c9b5645b517c4639413c6dc4...           2        0   \n",
       "2  36d3cd293c4b02a00103fa1ba33ffbee176173a55df75b...           1       70   \n",
       "3  96b6dea03dc71d9ddb1462e06fdba23def1ddc838debf7...           1       70   \n",
       "4  034eb5406bd021a9a88f046e33765efd5b3cd190b39538...           1       70   \n",
       "\n",
       "  zip_ctp_cd tco_cus_grd_cd ivs_icn_cd  \n",
       "0         29             04          -  \n",
       "1         41             09          -  \n",
       "2         27             03          -  \n",
       "3         41             09          -  \n",
       "4         11             05          -  "
      ]
     },
     "execution_count": 4,
     "metadata": {},
     "output_type": "execute_result"
    }
   ],
   "source": [
    "input_fd = open('../YNZ 투자자 공모전 리그2/리그2/2_cus_info.csv',errors = 'backslashreplace',encoding='utf-8')\n",
    "cus_info = pd.read_csv(input_fd)\n",
    "cus_info.head()"
   ]
  },
  {
   "cell_type": "code",
   "execution_count": 5,
   "metadata": {},
   "outputs": [
    {
     "data": {
      "text/html": [
       "<div>\n",
       "<style scoped>\n",
       "    .dataframe tbody tr th:only-of-type {\n",
       "        vertical-align: middle;\n",
       "    }\n",
       "\n",
       "    .dataframe tbody tr th {\n",
       "        vertical-align: top;\n",
       "    }\n",
       "\n",
       "    .dataframe thead th {\n",
       "        text-align: right;\n",
       "    }\n",
       "</style>\n",
       "<table border=\"1\" class=\"dataframe\">\n",
       "  <thead>\n",
       "    <tr style=\"text-align: right;\">\n",
       "      <th></th>\n",
       "      <th>iem_cd</th>\n",
       "      <th>iem_eng_nm</th>\n",
       "      <th>iem_krl_nm</th>\n",
       "    </tr>\n",
       "  </thead>\n",
       "  <tbody>\n",
       "    <tr>\n",
       "      <th>0</th>\n",
       "      <td>A000060</td>\n",
       "      <td>Meritz Fire &amp; Marine Insurance                ...</td>\n",
       "      <td>메리츠화재해상보험보통주                                  ...</td>\n",
       "    </tr>\n",
       "    <tr>\n",
       "      <th>1</th>\n",
       "      <td>A000120</td>\n",
       "      <td>CJ LOGISTICS                                  ...</td>\n",
       "      <td>씨제이대한통운보통주                                    ...</td>\n",
       "    </tr>\n",
       "    <tr>\n",
       "      <th>2</th>\n",
       "      <td>A000540</td>\n",
       "      <td>HeungkukFire&amp;MarineInsurance                  ...</td>\n",
       "      <td>흥국화재해상보험보통주                                   ...</td>\n",
       "    </tr>\n",
       "    <tr>\n",
       "      <th>3</th>\n",
       "      <td>A00088K</td>\n",
       "      <td>HANWHA(3PB)                                   ...</td>\n",
       "      <td>한화3우선주(신형)                                    ...</td>\n",
       "    </tr>\n",
       "    <tr>\n",
       "      <th>4</th>\n",
       "      <td>A000950</td>\n",
       "      <td>Chonbang                                      ...</td>\n",
       "      <td>전방보통주                                         ...</td>\n",
       "    </tr>\n",
       "  </tbody>\n",
       "</table>\n",
       "</div>"
      ],
      "text/plain": [
       "         iem_cd                                         iem_eng_nm  \\\n",
       "0  A000060       Meritz Fire & Marine Insurance                ...   \n",
       "1  A000120       CJ LOGISTICS                                  ...   \n",
       "2  A000540       HeungkukFire&MarineInsurance                  ...   \n",
       "3  A00088K       HANWHA(3PB)                                   ...   \n",
       "4  A000950       Chonbang                                      ...   \n",
       "\n",
       "                                          iem_krl_nm  \n",
       "0  메리츠화재해상보험보통주                                  ...  \n",
       "1  씨제이대한통운보통주                                    ...  \n",
       "2  흥국화재해상보험보통주                                   ...  \n",
       "3  한화3우선주(신형)                                    ...  \n",
       "4  전방보통주                                         ...  "
      ]
     },
     "execution_count": 5,
     "metadata": {},
     "output_type": "execute_result"
    }
   ],
   "source": [
    "input_fd = open('../YNZ 투자자 공모전 리그2/리그2/2_iem_info.csv',errors = 'backslashreplace',encoding='utf-8')\n",
    "iem_info = pd.read_csv(input_fd)\n",
    "iem_info.head()"
   ]
  },
  {
   "cell_type": "code",
   "execution_count": 6,
   "metadata": {},
   "outputs": [
    {
     "data": {
      "text/html": [
       "<div>\n",
       "<style scoped>\n",
       "    .dataframe tbody tr th:only-of-type {\n",
       "        vertical-align: middle;\n",
       "    }\n",
       "\n",
       "    .dataframe tbody tr th {\n",
       "        vertical-align: top;\n",
       "    }\n",
       "\n",
       "    .dataframe thead th {\n",
       "        text-align: right;\n",
       "    }\n",
       "</style>\n",
       "<table border=\"1\" class=\"dataframe\">\n",
       "  <thead>\n",
       "    <tr style=\"text-align: right;\">\n",
       "      <th></th>\n",
       "      <th>act_id</th>\n",
       "      <th>orr_dt</th>\n",
       "      <th>orr_ord</th>\n",
       "      <th>orr_rtn_hur</th>\n",
       "      <th>lst_cns_hur</th>\n",
       "      <th>iem_cd</th>\n",
       "      <th>sby_dit_cd</th>\n",
       "      <th>cns_qty</th>\n",
       "      <th>orr_pr</th>\n",
       "      <th>orr_mdi_dit_cd</th>\n",
       "    </tr>\n",
       "  </thead>\n",
       "  <tbody>\n",
       "    <tr>\n",
       "      <th>0</th>\n",
       "      <td>6caf4de40251d37cbba310f0c6dd0ed8f4c7ca4ccfa675...</td>\n",
       "      <td>20190102</td>\n",
       "      <td>1</td>\n",
       "      <td>12</td>\n",
       "      <td>13</td>\n",
       "      <td>A215600</td>\n",
       "      <td>2</td>\n",
       "      <td>35.0</td>\n",
       "      <td>74200.0</td>\n",
       "      <td>3</td>\n",
       "    </tr>\n",
       "    <tr>\n",
       "      <th>1</th>\n",
       "      <td>6caf4de40251d37cbba310f0c6dd0ed8f4c7ca4ccfa675...</td>\n",
       "      <td>20190102</td>\n",
       "      <td>2</td>\n",
       "      <td>12</td>\n",
       "      <td>12</td>\n",
       "      <td>A001060</td>\n",
       "      <td>2</td>\n",
       "      <td>20.0</td>\n",
       "      <td>41100.0</td>\n",
       "      <td>3</td>\n",
       "    </tr>\n",
       "    <tr>\n",
       "      <th>2</th>\n",
       "      <td>effb34815e1b7efb34beb550f604ede8ac71a5a71edb30...</td>\n",
       "      <td>20190102</td>\n",
       "      <td>1</td>\n",
       "      <td>14</td>\n",
       "      <td>14</td>\n",
       "      <td>A281820</td>\n",
       "      <td>2</td>\n",
       "      <td>20.0</td>\n",
       "      <td>9460.0</td>\n",
       "      <td>4</td>\n",
       "    </tr>\n",
       "    <tr>\n",
       "      <th>3</th>\n",
       "      <td>fea6c038cb7236a02d1e779262698a36219b4c9b527ab1...</td>\n",
       "      <td>20190102</td>\n",
       "      <td>1</td>\n",
       "      <td>12</td>\n",
       "      <td>12</td>\n",
       "      <td>A006650</td>\n",
       "      <td>2</td>\n",
       "      <td>1.0</td>\n",
       "      <td>148500.0</td>\n",
       "      <td>3</td>\n",
       "    </tr>\n",
       "    <tr>\n",
       "      <th>4</th>\n",
       "      <td>fea6c038cb7236a02d1e779262698a36219b4c9b527ab1...</td>\n",
       "      <td>20190102</td>\n",
       "      <td>2</td>\n",
       "      <td>12</td>\n",
       "      <td>13</td>\n",
       "      <td>A051360</td>\n",
       "      <td>2</td>\n",
       "      <td>10.0</td>\n",
       "      <td>6550.0</td>\n",
       "      <td>3</td>\n",
       "    </tr>\n",
       "  </tbody>\n",
       "</table>\n",
       "</div>"
      ],
      "text/plain": [
       "                                              act_id    orr_dt  orr_ord  \\\n",
       "0  6caf4de40251d37cbba310f0c6dd0ed8f4c7ca4ccfa675...  20190102        1   \n",
       "1  6caf4de40251d37cbba310f0c6dd0ed8f4c7ca4ccfa675...  20190102        2   \n",
       "2  effb34815e1b7efb34beb550f604ede8ac71a5a71edb30...  20190102        1   \n",
       "3  fea6c038cb7236a02d1e779262698a36219b4c9b527ab1...  20190102        1   \n",
       "4  fea6c038cb7236a02d1e779262698a36219b4c9b527ab1...  20190102        2   \n",
       "\n",
       "   orr_rtn_hur  lst_cns_hur        iem_cd  sby_dit_cd  cns_qty    orr_pr  \\\n",
       "0           12           13  A215600                2     35.0   74200.0   \n",
       "1           12           12  A001060                2     20.0   41100.0   \n",
       "2           14           14  A281820                2     20.0    9460.0   \n",
       "3           12           12  A006650                2      1.0  148500.0   \n",
       "4           12           13  A051360                2     10.0    6550.0   \n",
       "\n",
       "   orr_mdi_dit_cd  \n",
       "0               3  \n",
       "1               3  \n",
       "2               4  \n",
       "3               3  \n",
       "4               3  "
      ]
     },
     "execution_count": 6,
     "metadata": {},
     "output_type": "execute_result"
    }
   ],
   "source": [
    "input_fd = open('../YNZ 투자자 공모전 리그2/리그2/2_trd_kr.csv',errors = 'backslashreplace',encoding='utf-8')\n",
    "trd_kr = pd.read_csv(input_fd)\n",
    "trd_kr.head()"
   ]
  },
  {
   "cell_type": "code",
   "execution_count": 7,
   "metadata": {},
   "outputs": [
    {
     "data": {
      "text/html": [
       "<div>\n",
       "<style scoped>\n",
       "    .dataframe tbody tr th:only-of-type {\n",
       "        vertical-align: middle;\n",
       "    }\n",
       "\n",
       "    .dataframe tbody tr th {\n",
       "        vertical-align: top;\n",
       "    }\n",
       "\n",
       "    .dataframe thead th {\n",
       "        text-align: right;\n",
       "    }\n",
       "</style>\n",
       "<table border=\"1\" class=\"dataframe\">\n",
       "  <thead>\n",
       "    <tr style=\"text-align: right;\">\n",
       "      <th></th>\n",
       "      <th>act_id</th>\n",
       "      <th>orr_dt</th>\n",
       "      <th>orr_ord</th>\n",
       "      <th>orr_rtn_hur</th>\n",
       "      <th>lst_cns_hur</th>\n",
       "      <th>iem_cd</th>\n",
       "      <th>sby_dit_cd</th>\n",
       "      <th>cns_qty</th>\n",
       "      <th>orr_pr</th>\n",
       "      <th>orr_mdi_dit_cd</th>\n",
       "      <th>cur_cd</th>\n",
       "      <th>trd_cur_xcg_rt</th>\n",
       "    </tr>\n",
       "  </thead>\n",
       "  <tbody>\n",
       "    <tr>\n",
       "      <th>0</th>\n",
       "      <td>12c2bf5b4929fa3cb8b8aa7b45c0d000f7e3b868621b5b...</td>\n",
       "      <td>20190102</td>\n",
       "      <td>1</td>\n",
       "      <td>14</td>\n",
       "      <td>14</td>\n",
       "      <td>CNE100001526</td>\n",
       "      <td>2</td>\n",
       "      <td>100.0</td>\n",
       "      <td>49.1500</td>\n",
       "      <td>3</td>\n",
       "      <td>CNY</td>\n",
       "      <td>162.55</td>\n",
       "    </tr>\n",
       "    <tr>\n",
       "      <th>1</th>\n",
       "      <td>f51b1d8b13186e30aee7a407e235eb87b6b84ed85ca7a4...</td>\n",
       "      <td>20190102</td>\n",
       "      <td>1</td>\n",
       "      <td>1</td>\n",
       "      <td>1</td>\n",
       "      <td>US0378331005</td>\n",
       "      <td>2</td>\n",
       "      <td>10.0</td>\n",
       "      <td>157.6000</td>\n",
       "      <td>3</td>\n",
       "      <td>USD</td>\n",
       "      <td>1118.10</td>\n",
       "    </tr>\n",
       "    <tr>\n",
       "      <th>2</th>\n",
       "      <td>f51b1d8b13186e30aee7a407e235eb87b6b84ed85ca7a4...</td>\n",
       "      <td>20190102</td>\n",
       "      <td>2</td>\n",
       "      <td>1</td>\n",
       "      <td>1</td>\n",
       "      <td>US7561091049</td>\n",
       "      <td>2</td>\n",
       "      <td>2.0</td>\n",
       "      <td>61.9399</td>\n",
       "      <td>3</td>\n",
       "      <td>USD</td>\n",
       "      <td>1118.10</td>\n",
       "    </tr>\n",
       "    <tr>\n",
       "      <th>3</th>\n",
       "      <td>37bc7b62e55f0cf8402a1f86dc8d09b09a3028bb13afa6...</td>\n",
       "      <td>20190103</td>\n",
       "      <td>1</td>\n",
       "      <td>2</td>\n",
       "      <td>3</td>\n",
       "      <td>US9229083632</td>\n",
       "      <td>2</td>\n",
       "      <td>3.0</td>\n",
       "      <td>225.0000</td>\n",
       "      <td>3</td>\n",
       "      <td>USD</td>\n",
       "      <td>1119.00</td>\n",
       "    </tr>\n",
       "    <tr>\n",
       "      <th>4</th>\n",
       "      <td>e340482168a2154b323ec2b9a0d003d840590ddafb0e2b...</td>\n",
       "      <td>20190103</td>\n",
       "      <td>1</td>\n",
       "      <td>0</td>\n",
       "      <td>0</td>\n",
       "      <td>US74347X8314</td>\n",
       "      <td>1</td>\n",
       "      <td>6.0</td>\n",
       "      <td>34.5000</td>\n",
       "      <td>3</td>\n",
       "      <td>USD</td>\n",
       "      <td>1119.00</td>\n",
       "    </tr>\n",
       "  </tbody>\n",
       "</table>\n",
       "</div>"
      ],
      "text/plain": [
       "                                              act_id    orr_dt  orr_ord  \\\n",
       "0  12c2bf5b4929fa3cb8b8aa7b45c0d000f7e3b868621b5b...  20190102        1   \n",
       "1  f51b1d8b13186e30aee7a407e235eb87b6b84ed85ca7a4...  20190102        1   \n",
       "2  f51b1d8b13186e30aee7a407e235eb87b6b84ed85ca7a4...  20190102        2   \n",
       "3  37bc7b62e55f0cf8402a1f86dc8d09b09a3028bb13afa6...  20190103        1   \n",
       "4  e340482168a2154b323ec2b9a0d003d840590ddafb0e2b...  20190103        1   \n",
       "\n",
       "   orr_rtn_hur  lst_cns_hur        iem_cd  sby_dit_cd  cns_qty    orr_pr  \\\n",
       "0           14           14  CNE100001526           2    100.0   49.1500   \n",
       "1            1            1  US0378331005           2     10.0  157.6000   \n",
       "2            1            1  US7561091049           2      2.0   61.9399   \n",
       "3            2            3  US9229083632           2      3.0  225.0000   \n",
       "4            0            0  US74347X8314           1      6.0   34.5000   \n",
       "\n",
       "   orr_mdi_dit_cd cur_cd  trd_cur_xcg_rt  \n",
       "0               3    CNY          162.55  \n",
       "1               3    USD         1118.10  \n",
       "2               3    USD         1118.10  \n",
       "3               3    USD         1119.00  \n",
       "4               3    USD         1119.00  "
      ]
     },
     "execution_count": 7,
     "metadata": {},
     "output_type": "execute_result"
    }
   ],
   "source": [
    "input_fd = open('../YNZ 투자자 공모전 리그2/리그2/2_trd_oss.csv',errors = 'backslashreplace',encoding='utf-8')\n",
    "trd_oss = pd.read_csv(input_fd)\n",
    "trd_oss.head()"
   ]
  },
  {
   "cell_type": "markdown",
   "metadata": {},
   "source": [
    "### 1. Y&Z 세대는 어떤 기업에 가장 많이 투자할까?"
   ]
  },
  {
   "cell_type": "markdown",
   "metadata": {},
   "source": [
    "20대/30대/40대가 가장 많이 투자하는 기업 top20(국내/해외 각각)을 조사한다. 또한, 코로나로 인해 주식 투자 양상이 어떻게 달라졌을지 분석하기 위해 2019년 데이터와 2020년 데이터를 분리 후 분석을 시행한다.(2020년 데이터의 경우, 2020년 6월까지의 데이터이기 때문에 orr_dt < 20200630 으로 처리한다.)"
   ]
  },
  {
   "cell_type": "code",
   "execution_count": 8,
   "metadata": {},
   "outputs": [],
   "source": [
    "#테이블 병합(국내기업 투자 데이터)\n",
    "iem_trd = pd.merge(trd_kr, iem_info, on = 'iem_cd', how = 'left')\n",
    "iem_trd_act = pd.merge(iem_trd, act_info, on = 'act_id', how = 'left')\n",
    "iem_trd_act_cus = pd.merge(iem_trd_act, cus_info, on = 'cus_id', how = 'left')"
   ]
  },
  {
   "cell_type": "code",
   "execution_count": 9,
   "metadata": {},
   "outputs": [],
   "source": [
    "#Z세대(20대)\n",
    "iem_trd_act_cus_20 = iem_trd_act_cus[(iem_trd_act_cus['cus_age']==20) | (iem_trd_act_cus['cus_age']==25)]\n",
    "iem_trd_act_cus_20.reset_index(drop = True, inplace = True)"
   ]
  },
  {
   "cell_type": "code",
   "execution_count": 10,
   "metadata": {},
   "outputs": [],
   "source": [
    "#Y세대(30대)\n",
    "iem_trd_act_cus_30 = iem_trd_act_cus[(iem_trd_act_cus['cus_age'] == 30) | (iem_trd_act_cus['cus_age'] == 35)]\n",
    "iem_trd_act_cus_30.reset_index(drop = True, inplace = True)"
   ]
  },
  {
   "cell_type": "code",
   "execution_count": 11,
   "metadata": {},
   "outputs": [],
   "source": [
    "#X세대(40대)\n",
    "iem_trd_act_cus_40 = iem_trd_act_cus[(iem_trd_act_cus['cus_age'] == 40) | (iem_trd_act_cus['cus_age'] == 45)]\n",
    "iem_trd_act_cus_40.reset_index(drop = True, inplace = True)"
   ]
  },
  {
   "cell_type": "code",
   "execution_count": 14,
   "metadata": {},
   "outputs": [],
   "source": [
    "iem_trd_act_cus_20_2019 = iem_trd_act_cus_20[(iem_trd_act_cus_20['orr_dt'] >=20190101) & (iem_trd_act_cus_20['orr_dt'] <=20191231)]\n",
    "iem_trd_act_cus_20_2019.reset_index(drop = True, inplace = True)"
   ]
  },
  {
   "cell_type": "code",
   "execution_count": 15,
   "metadata": {},
   "outputs": [],
   "source": [
    "iem_trd_act_cus_20_2020 = iem_trd_act_cus_20[(iem_trd_act_cus_20['orr_dt'] >=20200101) & (iem_trd_act_cus_20['orr_dt'] <=20200630)]\n",
    "iem_trd_act_cus_20_2020.reset_index(drop = True, inplace = True)"
   ]
  },
  {
   "cell_type": "code",
   "execution_count": 16,
   "metadata": {},
   "outputs": [],
   "source": [
    "iem_trd_act_cus_30_2019 = iem_trd_act_cus_30[(iem_trd_act_cus_30['orr_dt'] >=20190101) & (iem_trd_act_cus_30['orr_dt'] <=20191231)]\n",
    "iem_trd_act_cus_30_2019.reset_index(drop = True, inplace = True)"
   ]
  },
  {
   "cell_type": "code",
   "execution_count": 17,
   "metadata": {},
   "outputs": [],
   "source": [
    "iem_trd_act_cus_30_2020 = iem_trd_act_cus_30[(iem_trd_act_cus_30['orr_dt'] >=20200101) & (iem_trd_act_cus_30['orr_dt'] <=20200630)]\n",
    "iem_trd_act_cus_30_2020.reset_index(drop = True, inplace = True)"
   ]
  },
  {
   "cell_type": "code",
   "execution_count": 13,
   "metadata": {},
   "outputs": [],
   "source": [
    "iem_trd_act_cus_40_2019 = iem_trd_act_cus_40[(iem_trd_act_cus_40['orr_dt'] >=20190101) & (iem_trd_act_cus_40['orr_dt'] <=20191231)]\n",
    "iem_trd_act_cus_40_2019.reset_index(drop = True, inplace = True)"
   ]
  },
  {
   "cell_type": "code",
   "execution_count": 18,
   "metadata": {},
   "outputs": [],
   "source": [
    "iem_trd_act_cus_40_2020 = iem_trd_act_cus_40[(iem_trd_act_cus_40['orr_dt'] >=20200101) & (iem_trd_act_cus_40['orr_dt'] <=20200630)]\n",
    "iem_trd_act_cus_40_2020.reset_index(drop = True, inplace = True)"
   ]
  },
  {
   "cell_type": "code",
   "execution_count": 19,
   "metadata": {},
   "outputs": [
    {
     "data": {
      "text/plain": [
       "삼성전자보통주                                                         924\n",
       "국일제지                                                            867\n",
       "머큐리                                                             557\n",
       "아난티                                                             453\n",
       "남선알미늄보통주                                                        450\n",
       "신라젠                                                             413\n",
       "에이치엘비                                                           410\n",
       "경창산업                                                            400\n",
       "위지윅스튜디오                                                         379\n",
       "현대바이오사이언스                                                       358\n",
       "후성 보통주                                                          353\n",
       "키이스트                                                            348\n",
       "에스케이하이닉스보통주                                                     321\n",
       "필룩스보통주                                                          312\n",
       "아시아나항공 보통주                                                      310\n",
       "넥슨지티                                                            300\n",
       "에어부산보통주                                                         284\n",
       "미래생명자원                                                          283\n",
       "현대자동차보통주                                                        272\n",
       "파워로직스                                                           261\n",
       "Name: iem_krl_nm, dtype: int64"
      ]
     },
     "execution_count": 19,
     "metadata": {},
     "output_type": "execute_result"
    }
   ],
   "source": [
    "#20대가 투자하는 top20 기업(국내, 2019)\n",
    "iem_trd_act_cus_20_2019['iem_krl_nm'].value_counts().head(20)"
   ]
  },
  {
   "cell_type": "code",
   "execution_count": 20,
   "metadata": {},
   "outputs": [
    {
     "data": {
      "text/plain": [
       "삼성전자보통주                                                         4056\n",
       "삼성 KODEX 200선물인버스2X증권상장지수투자신탁(주식-파생형)                           3779\n",
       "삼성KODEX레버리지증권상장지수투자신탁[주식-파생형]                                   1786\n",
       "씨젠                                                              1722\n",
       "남선알미늄보통주                                                        1421\n",
       "카카오보통주                                                          1362\n",
       "에스케이하이닉스보통주                                                     1276\n",
       "삼성전자1우선주                                                        1275\n",
       "빅텍                                                              1245\n",
       "한진칼보통주                                                          1219\n",
       "파미셀보통주                                                          1118\n",
       "디피씨보통주                                                          1108\n",
       "와이비엠넷                                                           1100\n",
       "현대자동차보통주                                                        1077\n",
       "신풍제약보통주                                                         1012\n",
       "이원다이애그노믹스                                                        993\n",
       "삼성증권 삼성 레버리지 WTI원유 선물 상장지수증권 제31호                                978\n",
       "아난티                                                              947\n",
       "웰크론                                                              932\n",
       "초록뱀미디어                                                           919\n",
       "Name: iem_krl_nm, dtype: int64"
      ]
     },
     "execution_count": 20,
     "metadata": {},
     "output_type": "execute_result"
    }
   ],
   "source": [
    "#20대가 투자하는 top20 기업(국내, 2020)\n",
    "iem_trd_act_cus_20_2020['iem_krl_nm'].value_counts().head(20)"
   ]
  },
  {
   "cell_type": "code",
   "execution_count": 21,
   "metadata": {},
   "outputs": [
    {
     "data": {
      "text/plain": [
       "삼성 KODEX 코스닥150 레버리지증권상장지수투자신탁(주식-파생                            5895\n",
       "에이치엘비                                                           5262\n",
       "삼성KODEX레버리지증권상장지수투자신탁[주식-파생형]                                   2493\n",
       "국일제지                                                            2255\n",
       "삼성전자보통주                                                         2143\n",
       "삼성 KODEX 200선물인버스2X증권상장지수투자신탁(주식-파생형)                           1664\n",
       "필룩스보통주                                                          1580\n",
       "신라젠                                                             1542\n",
       "에스모                                                             1372\n",
       "에스케이하이닉스보통주                                                     1270\n",
       "인스코비보통주                                                         1133\n",
       "파미셀보통주                                                          1124\n",
       "아시아나항공 보통주                                                      1112\n",
       "에어부산보통주                                                         1043\n",
       "현대바이오사이언스                                                       1026\n",
       "셀리버리                                                             987\n",
       "에이프로젠케이아이씨보통주                                                    985\n",
       "에이치엘비생명과학                                                        933\n",
       "화천기계보통주                                                          885\n",
       "텔콘알에프제약                                                          879\n",
       "Name: iem_krl_nm, dtype: int64"
      ]
     },
     "execution_count": 21,
     "metadata": {},
     "output_type": "execute_result"
    }
   ],
   "source": [
    "#30대가 투자하는 top20 기업(국내, 2019)\n",
    "iem_trd_act_cus_30_2019['iem_krl_nm'].value_counts().head(20)"
   ]
  },
  {
   "cell_type": "code",
   "execution_count": 22,
   "metadata": {},
   "outputs": [
    {
     "data": {
      "text/plain": [
       "삼성 KODEX 200선물인버스2X증권상장지수투자신탁(주식-파생형)                           9268\n",
       "삼성전자보통주                                                         9072\n",
       "삼성KODEX레버리지증권상장지수투자신탁[주식-파생형]                                   5049\n",
       "씨젠                                                              3812\n",
       "삼성 KODEX 코스닥150 레버리지증권상장지수투자신탁(주식-파생                            3561\n",
       "웰크론                                                             3223\n",
       "신풍제약보통주                                                         2893\n",
       "한진칼보통주                                                          2853\n",
       "에스케이하이닉스보통주                                                     2783\n",
       "파미셀보통주                                                          2727\n",
       "남선알미늄보통주                                                        2724\n",
       "셀트리온헬스케어                                                        2588\n",
       "삼성 KODEX WTI원유선물특별자산상장지수투자신탁[원유-파생형](                           2556\n",
       "삼성전자1우선주                                                        2548\n",
       "디피씨보통주                                                          2532\n",
       "카카오보통주                                                          2420\n",
       "이원다이애그노믹스                                                       2389\n",
       "아난티                                                             2356\n",
       "부광약품보통주                                                         2308\n",
       "빅텍                                                              2209\n",
       "Name: iem_krl_nm, dtype: int64"
      ]
     },
     "execution_count": 22,
     "metadata": {},
     "output_type": "execute_result"
    }
   ],
   "source": [
    "#30대가 투자하는 top20 기업(국내, 2020)\n",
    "iem_trd_act_cus_30_2020['iem_krl_nm'].value_counts().head(20)"
   ]
  },
  {
   "cell_type": "code",
   "execution_count": 23,
   "metadata": {},
   "outputs": [
    {
     "data": {
      "text/plain": [
       "케이씨그린홀딩스보통주                                                     36654\n",
       "한창보통주                                                           23067\n",
       "에이치엠엠보통주                                                        23041\n",
       "미래산업보통주                                                         22090\n",
       "데코앤이                                                            14545\n",
       "홈캐스트                                                            14351\n",
       "삼성전자보통주                                                          5291\n",
       "현대미포조선보통주                                                        4380\n",
       "이화전기공업                                                           4086\n",
       "국일제지                                                             3579\n",
       "마니커보통주                                                           3350\n",
       "신라젠                                                              2472\n",
       "이엔플러스보통주                                                         1982\n",
       "에이치엘비                                                            1962\n",
       "율호                                                               1885\n",
       "에이프로젠케이아이씨보통주                                                    1873\n",
       "제일바이오                                                            1804\n",
       "유니크                                                              1800\n",
       "에이치엘비생명과학                                                        1738\n",
       "필룩스보통주                                                           1672\n",
       "Name: iem_krl_nm, dtype: int64"
      ]
     },
     "execution_count": 23,
     "metadata": {},
     "output_type": "execute_result"
    }
   ],
   "source": [
    "#40대가 투자하는 top20 기업(국내, 2019)\n",
    "iem_trd_act_cus_40_2019['iem_krl_nm'].value_counts().head(20)"
   ]
  },
  {
   "cell_type": "code",
   "execution_count": 24,
   "metadata": {},
   "outputs": [
    {
     "data": {
      "text/plain": [
       "케이씨그린홀딩스보통주                                                     22370\n",
       "한창보통주                                                           17791\n",
       "삼성전자보통주                                                         16638\n",
       "에이치엠엠보통주                                                        12178\n",
       "홈캐스트                                                            11866\n",
       "삼성 KODEX 200선물인버스2X증권상장지수투자신탁(주식-파생형)                            4852\n",
       "신풍제약보통주                                                          4388\n",
       "씨젠                                                               3822\n",
       "미래산업보통주                                                          3810\n",
       "남선알미늄보통주                                                         3463\n",
       "삼성KODEX레버리지증권상장지수투자신탁[주식-파생형]                                    3171\n",
       "와이비엠넷                                                            3073\n",
       "셀트리온보통주                                                          2984\n",
       "에스케이하이닉스보통주                                                      2895\n",
       "미코                                                               2806\n",
       "삼성전자1우선주                                                         2764\n",
       "카카오보통주                                                           2755\n",
       "셀트리온헬스케어                                                         2747\n",
       "빅텍                                                               2689\n",
       "파미셀보통주                                                           2620\n",
       "Name: iem_krl_nm, dtype: int64"
      ]
     },
     "execution_count": 24,
     "metadata": {},
     "output_type": "execute_result"
    }
   ],
   "source": [
    "#40대가 투자하는 top20 기업(국내, 2020)\n",
    "iem_trd_act_cus_40_2020['iem_krl_nm'].value_counts().head(20)"
   ]
  },
  {
   "cell_type": "markdown",
   "metadata": {},
   "source": [
    "- 기성세대로 갈수록 count가 눈에 띄게 늘어나는 것을 통해 연령대가 높아질수록 주식투자를 많이 한다는 것을 알 수 있다. 일반적으로 나이가 많을수록 자산이 많기 때문에 주식투자 또한 연령대가 높아질수록 많이 하는 것으로 나타나는 것으로 보인다. \n",
    "- 20대, 30대의 경우 2020년은 상반기 데이터뿐임에도 불구하고 2019년보다 2020년의 count가 월등히 높은 것을 통해 코로나19로 인해 Y&Z 세대의 주식투자에 대한 관심이 증가한 것을 확인할 수 있다.\n",
    "- 2020년이 되자 전 세대에서 공통적으로 '씨젠'이 순위권에 나타나는 것을 알 수 있다. '씨젠'은 시약 및 의료용품 제조업체로, 코로나19의 진단 키트를 세계 최초로 개발해낸 회사로 잘 알려져 있다. 이를 통해 코로나19가 주식시장에도 큰 영향을 주는 것을 알 수 있다."
   ]
  },
  {
   "cell_type": "markdown",
   "metadata": {},
   "source": [
    "trd_oss에 대해서도 동일한 분석을 시행한다."
   ]
  },
  {
   "cell_type": "code",
   "execution_count": 26,
   "metadata": {},
   "outputs": [],
   "source": [
    "#테이블 병합(해외기업 투자 데이터)\n",
    "iem_trd_oss = pd.merge(trd_oss, iem_info, on = 'iem_cd', how = 'left')\n",
    "iem_trd_act_oss = pd.merge(iem_trd_oss, act_info, on = 'act_id', how = 'left')\n",
    "iem_trd_act_cus_oss = pd.merge(iem_trd_act_oss, cus_info, on = 'cus_id', how = 'left')"
   ]
  },
  {
   "cell_type": "code",
   "execution_count": 27,
   "metadata": {},
   "outputs": [],
   "source": [
    "#20대\n",
    "iem_trd_act_cus_20_oss = iem_trd_act_cus_oss[(iem_trd_act_cus_oss['cus_age']==20) | (iem_trd_act_cus_oss['cus_age']==25)]\n",
    "iem_trd_act_cus_20_oss.reset_index(drop = True, inplace = True)"
   ]
  },
  {
   "cell_type": "code",
   "execution_count": 28,
   "metadata": {},
   "outputs": [],
   "source": [
    "#30대\n",
    "iem_trd_act_cus_30_oss = iem_trd_act_cus_oss[(iem_trd_act_cus_oss['cus_age']==30) | (iem_trd_act_cus_oss['cus_age']==35)]\n",
    "iem_trd_act_cus_30_oss.reset_index(drop = True, inplace = True)"
   ]
  },
  {
   "cell_type": "code",
   "execution_count": 29,
   "metadata": {},
   "outputs": [],
   "source": [
    "#40대\n",
    "iem_trd_act_cus_40_oss = iem_trd_act_cus_oss[(iem_trd_act_cus_oss['cus_age']==40) | (iem_trd_act_cus_oss['cus_age']==45)]\n",
    "iem_trd_act_cus_40_oss.reset_index(drop = True, inplace = True)"
   ]
  },
  {
   "cell_type": "code",
   "execution_count": 30,
   "metadata": {},
   "outputs": [],
   "source": [
    "iem_trd_act_cus_20_oss_2019 = iem_trd_act_cus_20_oss[(iem_trd_act_cus_20_oss['orr_dt'] >=20190101) & (iem_trd_act_cus_20_oss['orr_dt'] <=20191231)]\n",
    "iem_trd_act_cus_20_oss_2019.reset_index(drop = True, inplace = True)"
   ]
  },
  {
   "cell_type": "code",
   "execution_count": 31,
   "metadata": {},
   "outputs": [],
   "source": [
    "iem_trd_act_cus_20_oss_2020 = iem_trd_act_cus_20_oss[(iem_trd_act_cus_20_oss['orr_dt'] >=20200101) & (iem_trd_act_cus_20_oss['orr_dt'] <=20200630)]\n",
    "iem_trd_act_cus_20_oss_2020.reset_index(drop = True, inplace = True)"
   ]
  },
  {
   "cell_type": "code",
   "execution_count": 32,
   "metadata": {},
   "outputs": [],
   "source": [
    "iem_trd_act_cus_30_oss_2019 = iem_trd_act_cus_30_oss[(iem_trd_act_cus_30_oss['orr_dt'] >=20190101) & (iem_trd_act_cus_30_oss['orr_dt'] <=20191231)]\n",
    "iem_trd_act_cus_30_oss_2019.reset_index(drop = True, inplace = True)"
   ]
  },
  {
   "cell_type": "code",
   "execution_count": 33,
   "metadata": {},
   "outputs": [],
   "source": [
    "iem_trd_act_cus_30_oss_2020 = iem_trd_act_cus_30_oss[(iem_trd_act_cus_30_oss['orr_dt'] >=20200101) & (iem_trd_act_cus_30_oss['orr_dt'] <=20200630)]\n",
    "iem_trd_act_cus_30_oss_2020.reset_index(drop = True, inplace = True)"
   ]
  },
  {
   "cell_type": "code",
   "execution_count": 34,
   "metadata": {},
   "outputs": [],
   "source": [
    "iem_trd_act_cus_40_oss_2019 = iem_trd_act_cus_40_oss[(iem_trd_act_cus_40_oss['orr_dt'] >=20190101) & (iem_trd_act_cus_40_oss['orr_dt'] <=20191231)]\n",
    "iem_trd_act_cus_40_oss_2019.reset_index(drop = True, inplace = True)"
   ]
  },
  {
   "cell_type": "code",
   "execution_count": 35,
   "metadata": {},
   "outputs": [],
   "source": [
    "iem_trd_act_cus_40_oss_2020 = iem_trd_act_cus_40_oss[(iem_trd_act_cus_40_oss['orr_dt'] >=20200101) & (iem_trd_act_cus_40_oss['orr_dt'] <=20200630)]\n",
    "iem_trd_act_cus_40_oss_2020.reset_index(drop = True, inplace = True)"
   ]
  },
  {
   "cell_type": "code",
   "execution_count": 36,
   "metadata": {},
   "outputs": [
    {
     "data": {
      "text/plain": [
       "Direxion:Nat Gas Bull 3X                                        78\n",
       "AMD                                                             57\n",
       "VELOCITYSHARES 3X INVERSE NATURA ETN                            28\n",
       "스타벅스                                                            28\n",
       "VELOCITYSHARES 3X LNG NTRL GS ETN                               27\n",
       "테슬라                                                             26\n",
       "AT&T                                                            20\n",
       "Nortech Systems Incorporated                                    17\n",
       "Global X SuperDividend REIT                                     16\n",
       "코카콜라                                                            14\n",
       "CONSUMER DISCRETIONARY SELECT SPDR                              14\n",
       "Kraneshares CSI 차이나 인터넷 펀드                                      13\n",
       "테크놀로지셀렉트섹터SPDR펀드                                                13\n",
       "FIRST TRUST DJ INTERNET IND                                     13\n",
       "WISDOMTREE U.S. QUALITY DVD                                     13\n",
       "INVESCO S&P 500 HIGH DIVIDEND LOW VOL                           13\n",
       "엔비디아                                                            13\n",
       "월트 디즈니                                                          11\n",
       "애자일 세러퓨틱스                                                       11\n",
       "프로셰어즈 울트라프로 QQQ                                                 11\n",
       "Name: iem_krl_nm, dtype: int64"
      ]
     },
     "execution_count": 36,
     "metadata": {},
     "output_type": "execute_result"
    }
   ],
   "source": [
    "#20대가 투자하는 top20 기업(해외, 2019)\n",
    "iem_trd_act_cus_20_oss_2019['iem_krl_nm'].value_counts().head(20)"
   ]
  },
  {
   "cell_type": "code",
   "execution_count": 37,
   "metadata": {},
   "outputs": [
    {
     "data": {
      "text/plain": [
       "델타 에어라인스                                                        255\n",
       "퍼스트 머제스틱 실버                                                     222\n",
       "마이크로소프트                                                         197\n",
       "테슬라                                                             180\n",
       "AMD                                                             174\n",
       "코카콜라                                                            173\n",
       "월트 디즈니                                                          166\n",
       "보잉                                                              156\n",
       "AT&T                                                            152\n",
       "ProShares:UltP Sht QQQ                                          148\n",
       "애플                                                              140\n",
       "Virgin Galactic Holdings                                        129\n",
       "MICRSECTRS US BIG OIL IDX 3X LVG ETN                            119\n",
       "카니발                                                             105\n",
       "Luckin Coffee                                                   103\n",
       "엑슨 모빌                                                            99\n",
       "스타벅스                                                             99\n",
       "Uber                                                             89\n",
       "인텔                                                               86\n",
       "아이바이오                                                            83\n",
       "Name: iem_krl_nm, dtype: int64"
      ]
     },
     "execution_count": 37,
     "metadata": {},
     "output_type": "execute_result"
    }
   ],
   "source": [
    "#20대가 투자하는 top20 기업(해외, 2020)\n",
    "iem_trd_act_cus_20_oss_2020['iem_krl_nm'].value_counts().head(20)"
   ]
  },
  {
   "cell_type": "code",
   "execution_count": 38,
   "metadata": {},
   "outputs": [
    {
     "data": {
      "text/plain": [
       "테슬라                                                             35\n",
       "VELOCITYSHARES 3X LNG NTRL GS ETN                               34\n",
       "월트 디즈니                                                          26\n",
       "아머 레지덴셜 리츠                                                      25\n",
       "애플                                                              24\n",
       "FIRST TRUST VALUE LINE DVD                                      20\n",
       "AT&T                                                            17\n",
       "글로벌 네트 리스                                                       15\n",
       "GUGGENHEIM STRATEGIC  OPPORTUNITY                               15\n",
       "비자                                                              15\n",
       "Luckin Coffee                                                   14\n",
       "리얼티 인컴                                                          12\n",
       "INVESCO S&P 500 HIGH DIVIDEND LOW VOL                           12\n",
       "크래프트 하인즈                                                        11\n",
       "VELOCITYSHARES 3X INVERSE NATURA ETN                            11\n",
       "뱅가드S&P500ETF                                                    11\n",
       "AMD                                                             11\n",
       "핌코 하이인컴 펀드                                                      11\n",
       "뱅가드토탈스톡마켓ETF                                                    10\n",
       "뱅가드 토탈 월드 스톡 ETF                                                10\n",
       "Name: iem_krl_nm, dtype: int64"
      ]
     },
     "execution_count": 38,
     "metadata": {},
     "output_type": "execute_result"
    }
   ],
   "source": [
    "#30대가 투자하는 top20 기업(해외, 2019)\n",
    "iem_trd_act_cus_30_oss_2019['iem_krl_nm'].value_counts().head(20)"
   ]
  },
  {
   "cell_type": "code",
   "execution_count": 39,
   "metadata": {},
   "outputs": [
    {
     "data": {
      "text/plain": [
       "델타 에어라인스                                                        321\n",
       "마이크로소프트                                                         260\n",
       "EPR 프로퍼티스                                                       216\n",
       "보잉                                                              214\n",
       "아머 레지덴셜 리츠                                                      176\n",
       "애플                                                              173\n",
       "AT&T                                                            154\n",
       "테슬라                                                             154\n",
       "월트 디즈니                                                          147\n",
       "코카콜라                                                            147\n",
       "ProShares:UltP Sht QQQ                                          129\n",
       "뱅가드토탈스톡마켓ETF                                                    122\n",
       "카니발                                                             115\n",
       "AMD                                                             112\n",
       "리얼티 인컴                                                          104\n",
       "사이먼 프로퍼티 그룹                                                     102\n",
       "파크 호텔스 & 리조츠                                                    102\n",
       "스타벅스                                                            101\n",
       "MICRSECTRS US BIG OIL IDX 3X LVG ETN                             80\n",
       "허츠 글로벌 홀딩스                                                       76\n",
       "Name: iem_krl_nm, dtype: int64"
      ]
     },
     "execution_count": 39,
     "metadata": {},
     "output_type": "execute_result"
    }
   ],
   "source": [
    "#30대가 투자하는 top20 기업(해외, 2020)\n",
    "iem_trd_act_cus_30_oss_2020['iem_krl_nm'].value_counts().head(20)"
   ]
  },
  {
   "cell_type": "code",
   "execution_count": 40,
   "metadata": {},
   "outputs": [
    {
     "data": {
      "text/plain": [
       "마이크로소프트                                                         68\n",
       "AT&T                                                            65\n",
       "리얼티 인컴                                                          60\n",
       "FuelCell Energy                                                 52\n",
       "Global X NASDAQ 100 Covered Call ETF                            49\n",
       "아이셰어즈20+이어트레저리본드ETF                                             47\n",
       "스타벅스                                                            45\n",
       "애플                                                              41\n",
       "INVESCO S&P 500 HIGH DIVIDEND LOW VOL                           35\n",
       "알트리아 그룹                                                         32\n",
       "iShares 7-10년 트레저리본드 ETF                                        30\n",
       "LMIR Trust                                                      30\n",
       "월트 디즈니                                                          29\n",
       "디렉션데일리세미콘덕터스강세장3x셰어스                                            28\n",
       "메인 스트리트 캐피털                                                     28\n",
       "알파벳 CLASS A (voting)                                            24\n",
       "VELOCITYSHARES 3X LNG NTRL GS ETN                               23\n",
       "공상은행                                                            23\n",
       "인베스코 DB 커모디티 인덱스 트래킹 펀드                                         23\n",
       "라스베이거스 샌즈                                                       20\n",
       "Name: iem_krl_nm, dtype: int64"
      ]
     },
     "execution_count": 40,
     "metadata": {},
     "output_type": "execute_result"
    }
   ],
   "source": [
    "#40대가 투자하는 top20 기업(해외, 2019)\n",
    "iem_trd_act_cus_40_oss_2019['iem_krl_nm'].value_counts().head(20)"
   ]
  },
  {
   "cell_type": "code",
   "execution_count": 41,
   "metadata": {},
   "outputs": [
    {
     "data": {
      "text/plain": [
       "마이크로소프트                                                         286\n",
       "애플                                                              235\n",
       "CS VELOCITYSHARES 3X LNG NTRL GS ETN                            206\n",
       "AT&T                                                            182\n",
       "월트 디즈니                                                          167\n",
       "리얼티 인컴                                                          163\n",
       "델타 에어라인스                                                        152\n",
       "테슬라                                                             136\n",
       "US 글로벌 제츠 ETF                                                   113\n",
       "스타벅스                                                            105\n",
       "인텔                                                              104\n",
       "MICRSECTRS US BIG OIL IDX 3X LVG ETN                             84\n",
       "알파벳 CLASS A (voting)                                             81\n",
       "NIO Inc.                                                         77\n",
       "인베스코 QQQ 트러스트 시리즈 1                                              77\n",
       "Virgin Galactic Holdings                                         77\n",
       "VELOCITYSHARES 3X INVERSE NATURA ETN                             74\n",
       "오가노보 홀딩스                                                         72\n",
       "코카콜라                                                             71\n",
       "이노비오 파마수티컬스                                                      69\n",
       "Name: iem_krl_nm, dtype: int64"
      ]
     },
     "execution_count": 41,
     "metadata": {},
     "output_type": "execute_result"
    }
   ],
   "source": [
    "#40대가 투자하는 top20 기업(해외, 2020)\n",
    "iem_trd_act_cus_40_oss_2020['iem_krl_nm'].value_counts().head(20)"
   ]
  },
  {
   "cell_type": "markdown",
   "metadata": {},
   "source": [
    "- 2019년에는 나타나지 않던 델타 에어라인스, 보잉 등 항공사 주식이 2020년이 되자 나타나는 것을 알 수 있다.\n",
    "- 20대는 Uber(스마트폰 기반의 승차 공유 서비스) 등 첨단 기술을 사용한 기업에도 많이 투자하는 것으로 보인다.\n",
    "- 2020년에는 아이바이오, 이노비오 파마수티컬스 등 제약/바이오 관련주에 대한 투자가 늘어난 것을 통해 코로나19가 주식시장에도 영향을 미쳤음을 알 수 있다."
   ]
  },
  {
   "cell_type": "markdown",
   "metadata": {},
   "source": [
    "### 2. Y&Z세대는 어떤 국가에 주로 투자할까?"
   ]
  },
  {
   "cell_type": "markdown",
   "metadata": {},
   "source": [
    "거래통화코드를 각 나라의 주식을 산 것으로 해석하면(예: USD는 미국 주식에 투자) 각 연령대별로 어떤 국가에 많이 투자하는지 알 수 있다."
   ]
  },
  {
   "cell_type": "markdown",
   "metadata": {},
   "source": [
    "AUD: 오스트레일리아-달러 / CAD: 캐나다-달러 / CNY: 렌민비(위안) EUR: 유로 / GBP: 영국-파운드/ HKD: 홍콩-달러 / IDR: 루피아 /\n",
    "JPY:일본-엔 / KRW: 대한민국-원 / SGD: 싱가포르-달러 /\n",
    "USD: 미국-달러 / VND: 동"
   ]
  },
  {
   "cell_type": "code",
   "execution_count": 42,
   "metadata": {},
   "outputs": [
    {
     "data": {
      "text/plain": [
       "Text(0.5, 1.0, '거래통화코드(20대, 2019)')"
      ]
     },
     "execution_count": 42,
     "metadata": {},
     "output_type": "execute_result"
    },
    {
     "data": {
      "image/png": "[encoded data removed]",
      "text/plain": [
       "<Figure size 432x288 with 1 Axes>"
      ]
     },
     "metadata": {},
     "output_type": "display_data"
    }
   ],
   "source": [
    "ax = plt.subplots() \n",
    "ax = sns.countplot('cur_cd', data=iem_trd_act_cus_20_oss_2019) \n",
    "ax.set_title('거래통화코드(20대, 2019)') "
   ]
  },
  {
   "cell_type": "code",
   "execution_count": 54,
   "metadata": {},
   "outputs": [
    {
     "data": {
      "text/plain": [
       "USD    861\n",
       "VND     18\n",
       "CNY      9\n",
       "CAD      6\n",
       "HKD      5\n",
       "JPY      2\n",
       "Name: cur_cd, dtype: int64"
      ]
     },
     "execution_count": 54,
     "metadata": {},
     "output_type": "execute_result"
    }
   ],
   "source": [
    "#20대, 2019 (위 그래프에서 잘 보이지 않는 자료는 value_counts로 count값 구함)\n",
    "iem_trd_act_cus_20_oss_2019['cur_cd'].value_counts()"
   ]
  },
  {
   "cell_type": "code",
   "execution_count": 43,
   "metadata": {},
   "outputs": [
    {
     "data": {
      "text/plain": [
       "Text(0.5, 1.0, '거래통화코드(20대, 2020)')"
      ]
     },
     "execution_count": 43,
     "metadata": {},
     "output_type": "execute_result"
    },
    {
     "data": {
      "image/png": "[encoded data removed]",
      "text/plain": [
       "<Figure size 432x288 with 1 Axes>"
      ]
     },
     "metadata": {},
     "output_type": "display_data"
    }
   ],
   "source": [
    "ax = plt.subplots() \n",
    "ax = sns.countplot('cur_cd', data=iem_trd_act_cus_20_oss_2020) \n",
    "ax.set_title('거래통화코드(20대, 2020)') "
   ]
  },
  {
   "cell_type": "code",
   "execution_count": 55,
   "metadata": {},
   "outputs": [
    {
     "data": {
      "text/plain": [
       "USD    6511\n",
       "EUR      24\n",
       "CNY      19\n",
       "JPY      18\n",
       "VND       7\n",
       "HKD       6\n",
       "GBP       2\n",
       "AUD       2\n",
       "Name: cur_cd, dtype: int64"
      ]
     },
     "execution_count": 55,
     "metadata": {},
     "output_type": "execute_result"
    }
   ],
   "source": [
    "#20대, 2020\n",
    "iem_trd_act_cus_20_oss_2020['cur_cd'].value_counts()"
   ]
  },
  {
   "cell_type": "code",
   "execution_count": 44,
   "metadata": {},
   "outputs": [
    {
     "data": {
      "text/plain": [
       "Text(0.5, 1.0, '거래통화코드(30대, 2019)')"
      ]
     },
     "execution_count": 44,
     "metadata": {},
     "output_type": "execute_result"
    },
    {
     "data": {
      "image/png": "[encoded data removed]",
      "text/plain": [
       "<Figure size 432x288 with 1 Axes>"
      ]
     },
     "metadata": {},
     "output_type": "display_data"
    }
   ],
   "source": [
    "ax = plt.subplots() \n",
    "ax = sns.countplot('cur_cd', data=iem_trd_act_cus_30_oss_2019) \n",
    "ax.set_title('거래통화코드(30대, 2019)') "
   ]
  },
  {
   "cell_type": "code",
   "execution_count": 56,
   "metadata": {},
   "outputs": [
    {
     "data": {
      "text/plain": [
       "USD    594\n",
       "CNY     43\n",
       "JPY      3\n",
       "IDR      1\n",
       "HKD      1\n",
       "Name: cur_cd, dtype: int64"
      ]
     },
     "execution_count": 56,
     "metadata": {},
     "output_type": "execute_result"
    }
   ],
   "source": [
    "#30대, 2019\n",
    "iem_trd_act_cus_30_oss_2019['cur_cd'].value_counts()"
   ]
  },
  {
   "cell_type": "code",
   "execution_count": 45,
   "metadata": {},
   "outputs": [
    {
     "data": {
      "text/plain": [
       "Text(0.5, 1.0, '거래통화코드(30대, 2020)')"
      ]
     },
     "execution_count": 45,
     "metadata": {},
     "output_type": "execute_result"
    },
    {
     "data": {
      "image/png": "[encoded data removed]",
      "text/plain": [
       "<Figure size 432x288 with 1 Axes>"
      ]
     },
     "metadata": {},
     "output_type": "display_data"
    }
   ],
   "source": [
    "ax = plt.subplots() \n",
    "ax = sns.countplot('cur_cd', data=iem_trd_act_cus_30_oss_2020) \n",
    "ax.set_title('거래통화코드(30대, 2020)') "
   ]
  },
  {
   "cell_type": "code",
   "execution_count": 57,
   "metadata": {},
   "outputs": [
    {
     "data": {
      "text/plain": [
       "USD    6322\n",
       "CNY      39\n",
       "GBP      30\n",
       "JPY      25\n",
       "VND      11\n",
       "HKD       8\n",
       "AUD       4\n",
       "EUR       3\n",
       "CAD       2\n",
       "Name: cur_cd, dtype: int64"
      ]
     },
     "execution_count": 57,
     "metadata": {},
     "output_type": "execute_result"
    }
   ],
   "source": [
    "#30대, 2020\n",
    "iem_trd_act_cus_30_oss_2020['cur_cd'].value_counts()"
   ]
  },
  {
   "cell_type": "code",
   "execution_count": 46,
   "metadata": {},
   "outputs": [
    {
     "data": {
      "text/plain": [
       "Text(0.5, 1.0, '거래통화코드(40대, 2019)')"
      ]
     },
     "execution_count": 46,
     "metadata": {},
     "output_type": "execute_result"
    },
    {
     "data": {
      "image/png": "[encoded data removed]",
      "text/plain": [
       "<Figure size 432x288 with 1 Axes>"
      ]
     },
     "metadata": {},
     "output_type": "display_data"
    }
   ],
   "source": [
    "ax = plt.subplots() \n",
    "ax = sns.countplot('cur_cd', data=iem_trd_act_cus_40_oss_2019) \n",
    "ax.set_title('거래통화코드(40대, 2019)') "
   ]
  },
  {
   "cell_type": "code",
   "execution_count": 58,
   "metadata": {},
   "outputs": [
    {
     "data": {
      "text/plain": [
       "USD    1388\n",
       "CNY      62\n",
       "SGD      30\n",
       "JPY      19\n",
       "IDR      12\n",
       "HKD       9\n",
       "CAD       9\n",
       "VND       8\n",
       "Name: cur_cd, dtype: int64"
      ]
     },
     "execution_count": 58,
     "metadata": {},
     "output_type": "execute_result"
    }
   ],
   "source": [
    "#40대, 2019\n",
    "iem_trd_act_cus_40_oss_2019['cur_cd'].value_counts()"
   ]
  },
  {
   "cell_type": "code",
   "execution_count": 47,
   "metadata": {},
   "outputs": [
    {
     "data": {
      "text/plain": [
       "Text(0.5, 1.0, '거래통화코드(40대, 2020)')"
      ]
     },
     "execution_count": 47,
     "metadata": {},
     "output_type": "execute_result"
    },
    {
     "data": {
      "image/png": "[encoded data removed]",
      "text/plain": [
       "<Figure size 432x288 with 1 Axes>"
      ]
     },
     "metadata": {},
     "output_type": "display_data"
    }
   ],
   "source": [
    "ax = plt.subplots() \n",
    "ax = sns.countplot('cur_cd', data=iem_trd_act_cus_40_oss_2020) \n",
    "ax.set_title('거래통화코드(40대, 2020)') "
   ]
  },
  {
   "cell_type": "code",
   "execution_count": 59,
   "metadata": {},
   "outputs": [
    {
     "data": {
      "text/plain": [
       "USD    5592\n",
       "HKD      74\n",
       "CNY      68\n",
       "EUR      24\n",
       "JPY      22\n",
       "IDR      21\n",
       "VND      15\n",
       "GBP       2\n",
       "Name: cur_cd, dtype: int64"
      ]
     },
     "execution_count": 59,
     "metadata": {},
     "output_type": "execute_result"
    }
   ],
   "source": [
    "#40대, 2020\n",
    "iem_trd_act_cus_40_oss_2020['cur_cd'].value_counts()"
   ]
  },
  {
   "cell_type": "markdown",
   "metadata": {},
   "source": [
    "- 2020년 미국에 대한 투자가 전 세대에 걸쳐 대폭 증가한 것을 확인할 수 있다. 특히 20대와 30대가 40대보다 더 높은 증가폭을 보이는 것을 확인할 수 있다. \n",
    "- 20대, 30대는 2019년보다 2020년에 더 다양한 국가에 투자를 하는 것으로 나타났다.\n",
    "- 위 사실들을 통해 코로나19로 인해 Y&Z 세대의 주식에 대한 관심이 매우 높아졌음을 알 수 있다. "
   ]
  },
  {
   "cell_type": "markdown",
   "metadata": {},
   "source": [
    "### 3. Y&Z세대는 주식을 어떻게 살까? "
   ]
  },
  {
   "cell_type": "markdown",
   "metadata": {},
   "source": [
    "주문매체구분코드 데이터를 통해 Y&Z 세대는 어떻게 주식을 사는지, 주식을 사는 방식이 위 세대와 다른지 조사한다."
   ]
  },
  {
   "cell_type": "markdown",
   "metadata": {},
   "source": [
    "1:영업점단말 \n",
    "\n",
    "2:유선단말\n",
    "\n",
    "3:무선단말MTS\n",
    "\n",
    "4:HTS"
   ]
  },
  {
   "cell_type": "code",
   "execution_count": 100,
   "metadata": {},
   "outputs": [
    {
     "data": {
      "text/plain": [
       "3    198689\n",
       "4     20654\n",
       "1       526\n",
       "Name: orr_mdi_dit_cd, dtype: int64"
      ]
     },
     "execution_count": 100,
     "metadata": {},
     "output_type": "execute_result"
    }
   ],
   "source": [
    "iem_trd_act_cus_20['orr_mdi_dit_cd'].value_counts()"
   ]
  },
  {
   "cell_type": "code",
   "execution_count": 101,
   "metadata": {},
   "outputs": [
    {
     "data": {
      "text/plain": [
       "3    583859\n",
       "4     34672\n",
       "1       220\n",
       "Name: orr_mdi_dit_cd, dtype: int64"
      ]
     },
     "execution_count": 101,
     "metadata": {},
     "output_type": "execute_result"
    }
   ],
   "source": [
    "iem_trd_act_cus_30['orr_mdi_dit_cd'].value_counts()"
   ]
  },
  {
   "cell_type": "code",
   "execution_count": 102,
   "metadata": {},
   "outputs": [
    {
     "data": {
      "text/plain": [
       "3    836987\n",
       "4    175090\n",
       "1      5177\n",
       "2       405\n",
       "Name: orr_mdi_dit_cd, dtype: int64"
      ]
     },
     "execution_count": 102,
     "metadata": {},
     "output_type": "execute_result"
    }
   ],
   "source": [
    "iem_trd_act_cus_40['orr_mdi_dit_cd'].value_counts()"
   ]
  },
  {
   "cell_type": "code",
   "execution_count": 96,
   "metadata": {},
   "outputs": [
    {
     "data": {
      "text/plain": [
       "3    7324\n",
       "1     118\n",
       "4      48\n",
       "Name: orr_mdi_dit_cd, dtype: int64"
      ]
     },
     "execution_count": 96,
     "metadata": {},
     "output_type": "execute_result"
    }
   ],
   "source": [
    "iem_trd_act_cus_20_oss['orr_mdi_dit_cd'].value_counts()"
   ]
  },
  {
   "cell_type": "code",
   "execution_count": 98,
   "metadata": {},
   "outputs": [
    {
     "data": {
      "text/plain": [
       "3    6853\n",
       "4     215\n",
       "1      18\n",
       "Name: orr_mdi_dit_cd, dtype: int64"
      ]
     },
     "execution_count": 98,
     "metadata": {},
     "output_type": "execute_result"
    }
   ],
   "source": [
    "iem_trd_act_cus_30_oss['orr_mdi_dit_cd'].value_counts()"
   ]
  },
  {
   "cell_type": "code",
   "execution_count": 99,
   "metadata": {},
   "outputs": [
    {
     "data": {
      "text/plain": [
       "3    6929\n",
       "1     232\n",
       "4     194\n",
       "Name: orr_mdi_dit_cd, dtype: int64"
      ]
     },
     "execution_count": 99,
     "metadata": {},
     "output_type": "execute_result"
    }
   ],
   "source": [
    "iem_trd_act_cus_40_oss['orr_mdi_dit_cd'].value_counts()"
   ]
  },
  {
   "cell_type": "markdown",
   "metadata": {},
   "source": [
    "모든 연령대가 무선단말MTS를 주로 사용했고, 40대(국내 주식)의 경우 다른 세대와 달리 유선단말도 사용하는 것을 알 수 있다. 위 내용을 시각화하면 다음과 같다."
   ]
  },
  {
   "cell_type": "code",
   "execution_count": 109,
   "metadata": {},
   "outputs": [
    {
     "data": {
      "text/plain": [
       "Text(0.5, 1.0, '주문 매체(20대, 국내 주식)')"
      ]
     },
     "execution_count": 109,
     "metadata": {},
     "output_type": "execute_result"
    },
    {
     "data": {
      "image/png": "[encoded data removed]",
      "text/plain": [
       "<Figure size 432x288 with 1 Axes>"
      ]
     },
     "metadata": {},
     "output_type": "display_data"
    }
   ],
   "source": [
    "ax = plt.subplots() \n",
    "ax = sns.countplot('orr_mdi_dit_cd', data=iem_trd_act_cus_20) \n",
    "ax.set_title('주문 매체(20대, 국내 주식)') "
   ]
  },
  {
   "cell_type": "code",
   "execution_count": 110,
   "metadata": {},
   "outputs": [
    {
     "data": {
      "text/plain": [
       "Text(0.5, 1.0, '주문 매체(30대, 국내 주식)')"
      ]
     },
     "execution_count": 110,
     "metadata": {},
     "output_type": "execute_result"
    },
    {
     "data": {
      "image/png": "[encoded data removed]",
      "text/plain": [
       "<Figure size 432x288 with 1 Axes>"
      ]
     },
     "metadata": {},
     "output_type": "display_data"
    }
   ],
   "source": [
    "ax = plt.subplots() \n",
    "ax = sns.countplot('orr_mdi_dit_cd', data=iem_trd_act_cus_30) \n",
    "ax.set_title('주문 매체(30대, 국내 주식)') "
   ]
  },
  {
   "cell_type": "code",
   "execution_count": 111,
   "metadata": {},
   "outputs": [
    {
     "data": {
      "text/plain": [
       "Text(0.5, 1.0, '주문 매체(40대, 국내 주식)')"
      ]
     },
     "execution_count": 111,
     "metadata": {},
     "output_type": "execute_result"
    },
    {
     "data": {
      "image/png": "[encoded data removed]",
      "text/plain": [
       "<Figure size 432x288 with 1 Axes>"
      ]
     },
     "metadata": {},
     "output_type": "display_data"
    }
   ],
   "source": [
    "ax = plt.subplots() \n",
    "ax = sns.countplot('orr_mdi_dit_cd', data=iem_trd_act_cus_40) \n",
    "ax.set_title('주문 매체(40대, 국내 주식)') "
   ]
  },
  {
   "cell_type": "code",
   "execution_count": 106,
   "metadata": {},
   "outputs": [
    {
     "data": {
      "text/plain": [
       "Text(0.5, 1.0, '주문 매체(20대, 해외 주식)')"
      ]
     },
     "execution_count": 106,
     "metadata": {},
     "output_type": "execute_result"
    },
    {
     "data": {
      "image/png": "[encoded data removed]",
      "text/plain": [
       "<Figure size 432x288 with 1 Axes>"
      ]
     },
     "metadata": {},
     "output_type": "display_data"
    }
   ],
   "source": [
    "ax = plt.subplots() \n",
    "ax = sns.countplot('orr_mdi_dit_cd', data=iem_trd_act_cus_20_oss) \n",
    "ax.set_title('주문 매체(20대, 해외 주식)') "
   ]
  },
  {
   "cell_type": "code",
   "execution_count": 107,
   "metadata": {},
   "outputs": [
    {
     "data": {
      "text/plain": [
       "Text(0.5, 1.0, '주문 매체(30대, 해외 주식)')"
      ]
     },
     "execution_count": 107,
     "metadata": {},
     "output_type": "execute_result"
    },
    {
     "data": {
      "image/png": "[encoded data removed]",
      "text/plain": [
       "<Figure size 432x288 with 1 Axes>"
      ]
     },
     "metadata": {},
     "output_type": "display_data"
    }
   ],
   "source": [
    "ax = plt.subplots() \n",
    "ax = sns.countplot('orr_mdi_dit_cd', data=iem_trd_act_cus_30_oss) \n",
    "ax.set_title('주문 매체(30대, 해외 주식)') "
   ]
  },
  {
   "cell_type": "code",
   "execution_count": 108,
   "metadata": {},
   "outputs": [
    {
     "data": {
      "text/plain": [
       "Text(0.5, 1.0, '주문 매체(40대, 해외 주식)')"
      ]
     },
     "execution_count": 108,
     "metadata": {},
     "output_type": "execute_result"
    },
    {
     "data": {
      "image/png": "[encoded data removed]",
      "text/plain": [
       "<Figure size 432x288 with 1 Axes>"
      ]
     },
     "metadata": {},
     "output_type": "display_data"
    }
   ],
   "source": [
    "ax = plt.subplots() \n",
    "ax = sns.countplot('orr_mdi_dit_cd', data=iem_trd_act_cus_40) \n",
    "ax.set_title('주문 매체(40대, 해외 주식)') "
   ]
  }
 ],
 "metadata": {
  "kernelspec": {
   "display_name": "Python 3",
   "language": "python",
   "name": "python3"
  },
  "language_info": {
   "codemirror_mode": {
    "name": "ipython",
    "version": 3
   },
   "file_extension": ".py",
   "mimetype": "text/x-python",
   "name": "python",
   "nbconvert_exporter": "python",
   "pygments_lexer": "ipython3",
   "version": "3.8.3"
  }
 },
 "nbformat": 4,
 "nbformat_minor": 4
}
