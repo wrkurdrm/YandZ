{
 "cells": [
  {
   "cell_type": "code",
   "execution_count": 4,
   "metadata": {},
   "outputs": [],
   "source": [
    "#필요한 라이브러리 불러오기\n",
    "import os\n",
    "import numpy as np\n",
    "import pandas as pd\n",
    "\n",
    "%matplotlib inline\n",
    "import matplotlib\n",
    "import matplotlib.pyplot as plt\n",
    "import seaborn as sns\n",
    "sns.set()\n",
    "plt.rcParams['axes.labelsize'] = 14\n",
    "plt.rcParams['xtick.labelsize'] = 12\n",
    "plt.rcParams['ytick.labelsize'] = 12\n",
    "\n",
    "# 한글출력\n",
    "#matplotlib.rc('font', family='AppleGothic')  # MacOS\n",
    "matplotlib.rc('font', family='Malgun Gothic')  # Windows\n",
    "plt.rcParams['axes.unicode_minus'] = False"
   ]
  },
  {
   "cell_type": "markdown",
   "metadata": {},
   "source": [
    "### 데이터 불러오기 및 살펴보기"
   ]
  },
  {
   "cell_type": "code",
   "execution_count": 5,
   "metadata": {},
   "outputs": [
    {
     "data": {
      "text/html": [
       "<div>\n",
       "<style scoped>\n",
       "    .dataframe tbody tr th:only-of-type {\n",
       "        vertical-align: middle;\n",
       "    }\n",
       "\n",
       "    .dataframe tbody tr th {\n",
       "        vertical-align: top;\n",
       "    }\n",
       "\n",
       "    .dataframe thead th {\n",
       "        text-align: right;\n",
       "    }\n",
       "</style>\n",
       "<table border=\"1\" class=\"dataframe\">\n",
       "  <thead>\n",
       "    <tr style=\"text-align: right;\">\n",
       "      <th></th>\n",
       "      <th>act_id</th>\n",
       "      <th>cus_id</th>\n",
       "      <th>act_opn_ym</th>\n",
       "    </tr>\n",
       "  </thead>\n",
       "  <tbody>\n",
       "    <tr>\n",
       "      <th>0</th>\n",
       "      <td>8e1a987ebef2a3374ba558aeda4c7821de7808a11cfea1...</td>\n",
       "      <td>892f41b5002a79c9c93992acf60682f5698372aea023bd...</td>\n",
       "      <td>197912</td>\n",
       "    </tr>\n",
       "    <tr>\n",
       "      <th>1</th>\n",
       "      <td>eb161b66263589c3f38efd2277cec2a9a81e1ffa0a5255...</td>\n",
       "      <td>006ad32069efb2a8ce1a99542dfe41cb14e8e75685278a...</td>\n",
       "      <td>198702</td>\n",
       "    </tr>\n",
       "    <tr>\n",
       "      <th>2</th>\n",
       "      <td>01866857515304e9e1315e54863cc1108e1d46fff0d467...</td>\n",
       "      <td>1925ed2d8ed2cad53997f5b24722482137c4d1da4b555e...</td>\n",
       "      <td>199109</td>\n",
       "    </tr>\n",
       "    <tr>\n",
       "      <th>3</th>\n",
       "      <td>63a58b0fee2fa4dc467c043fde465846b65705659497c5...</td>\n",
       "      <td>7829365dc463ed8275c8b92518d58b3c8d983f00f7bf87...</td>\n",
       "      <td>199401</td>\n",
       "    </tr>\n",
       "    <tr>\n",
       "      <th>4</th>\n",
       "      <td>b563fb76d3d432d67198f194701ca67e895da4c2f24e8e...</td>\n",
       "      <td>36e05dde058cf7531bd4001ed3b976ef9562a9ecd9f43d...</td>\n",
       "      <td>199404</td>\n",
       "    </tr>\n",
       "  </tbody>\n",
       "</table>\n",
       "</div>"
      ],
      "text/plain": [
       "                                              act_id  \\\n",
       "0  8e1a987ebef2a3374ba558aeda4c7821de7808a11cfea1...   \n",
       "1  eb161b66263589c3f38efd2277cec2a9a81e1ffa0a5255...   \n",
       "2  01866857515304e9e1315e54863cc1108e1d46fff0d467...   \n",
       "3  63a58b0fee2fa4dc467c043fde465846b65705659497c5...   \n",
       "4  b563fb76d3d432d67198f194701ca67e895da4c2f24e8e...   \n",
       "\n",
       "                                              cus_id  act_opn_ym  \n",
       "0  892f41b5002a79c9c93992acf60682f5698372aea023bd...      197912  \n",
       "1  006ad32069efb2a8ce1a99542dfe41cb14e8e75685278a...      198702  \n",
       "2  1925ed2d8ed2cad53997f5b24722482137c4d1da4b555e...      199109  \n",
       "3  7829365dc463ed8275c8b92518d58b3c8d983f00f7bf87...      199401  \n",
       "4  36e05dde058cf7531bd4001ed3b976ef9562a9ecd9f43d...      199404  "
      ]
     },
     "execution_count": 5,
     "metadata": {},
     "output_type": "execute_result"
    }
   ],
   "source": [
    "input_fd = open('../YNZ 투자자 공모전 리그2/리그2/2_act_info.csv',errors = 'backslashreplace',encoding='utf-8')\n",
    "act_info = pd.read_csv(input_fd)\n",
    "act_info.head()"
   ]
  },
  {
   "cell_type": "code",
   "execution_count": 6,
   "metadata": {},
   "outputs": [
    {
     "data": {
      "text/html": [
       "<div>\n",
       "<style scoped>\n",
       "    .dataframe tbody tr th:only-of-type {\n",
       "        vertical-align: middle;\n",
       "    }\n",
       "\n",
       "    .dataframe tbody tr th {\n",
       "        vertical-align: top;\n",
       "    }\n",
       "\n",
       "    .dataframe thead th {\n",
       "        text-align: right;\n",
       "    }\n",
       "</style>\n",
       "<table border=\"1\" class=\"dataframe\">\n",
       "  <thead>\n",
       "    <tr style=\"text-align: right;\">\n",
       "      <th></th>\n",
       "      <th>cus_id</th>\n",
       "      <th>sex_dit_cd</th>\n",
       "      <th>cus_age</th>\n",
       "      <th>zip_ctp_cd</th>\n",
       "      <th>tco_cus_grd_cd</th>\n",
       "      <th>ivs_icn_cd</th>\n",
       "    </tr>\n",
       "  </thead>\n",
       "  <tbody>\n",
       "    <tr>\n",
       "      <th>0</th>\n",
       "      <td>1eec7e43dd6ea34d6be7a9484459e4db1a2da44c5bf311...</td>\n",
       "      <td>2</td>\n",
       "      <td>20</td>\n",
       "      <td>29</td>\n",
       "      <td>04</td>\n",
       "      <td>-</td>\n",
       "    </tr>\n",
       "    <tr>\n",
       "      <th>1</th>\n",
       "      <td>7e50c268acce884b1a5b78c9b5645b517c4639413c6dc4...</td>\n",
       "      <td>2</td>\n",
       "      <td>0</td>\n",
       "      <td>41</td>\n",
       "      <td>09</td>\n",
       "      <td>-</td>\n",
       "    </tr>\n",
       "    <tr>\n",
       "      <th>2</th>\n",
       "      <td>36d3cd293c4b02a00103fa1ba33ffbee176173a55df75b...</td>\n",
       "      <td>1</td>\n",
       "      <td>70</td>\n",
       "      <td>27</td>\n",
       "      <td>03</td>\n",
       "      <td>-</td>\n",
       "    </tr>\n",
       "    <tr>\n",
       "      <th>3</th>\n",
       "      <td>96b6dea03dc71d9ddb1462e06fdba23def1ddc838debf7...</td>\n",
       "      <td>1</td>\n",
       "      <td>70</td>\n",
       "      <td>41</td>\n",
       "      <td>09</td>\n",
       "      <td>-</td>\n",
       "    </tr>\n",
       "    <tr>\n",
       "      <th>4</th>\n",
       "      <td>034eb5406bd021a9a88f046e33765efd5b3cd190b39538...</td>\n",
       "      <td>1</td>\n",
       "      <td>70</td>\n",
       "      <td>11</td>\n",
       "      <td>05</td>\n",
       "      <td>-</td>\n",
       "    </tr>\n",
       "  </tbody>\n",
       "</table>\n",
       "</div>"
      ],
      "text/plain": [
       "                                              cus_id  sex_dit_cd  cus_age  \\\n",
       "0  1eec7e43dd6ea34d6be7a9484459e4db1a2da44c5bf311...           2       20   \n",
       "1  7e50c268acce884b1a5b78c9b5645b517c4639413c6dc4...           2        0   \n",
       "2  36d3cd293c4b02a00103fa1ba33ffbee176173a55df75b...           1       70   \n",
       "3  96b6dea03dc71d9ddb1462e06fdba23def1ddc838debf7...           1       70   \n",
       "4  034eb5406bd021a9a88f046e33765efd5b3cd190b39538...           1       70   \n",
       "\n",
       "  zip_ctp_cd tco_cus_grd_cd ivs_icn_cd  \n",
       "0         29             04          -  \n",
       "1         41             09          -  \n",
       "2         27             03          -  \n",
       "3         41             09          -  \n",
       "4         11             05          -  "
      ]
     },
     "execution_count": 6,
     "metadata": {},
     "output_type": "execute_result"
    }
   ],
   "source": [
    "input_fd = open('../YNZ 투자자 공모전 리그2/리그2/2_cus_info.csv',errors = 'backslashreplace',encoding='utf-8')\n",
    "cus_info = pd.read_csv(input_fd)\n",
    "cus_info.head()"
   ]
  },
  {
   "cell_type": "code",
   "execution_count": 7,
   "metadata": {},
   "outputs": [
    {
     "data": {
      "text/html": [
       "<div>\n",
       "<style scoped>\n",
       "    .dataframe tbody tr th:only-of-type {\n",
       "        vertical-align: middle;\n",
       "    }\n",
       "\n",
       "    .dataframe tbody tr th {\n",
       "        vertical-align: top;\n",
       "    }\n",
       "\n",
       "    .dataframe thead th {\n",
       "        text-align: right;\n",
       "    }\n",
       "</style>\n",
       "<table border=\"1\" class=\"dataframe\">\n",
       "  <thead>\n",
       "    <tr style=\"text-align: right;\">\n",
       "      <th></th>\n",
       "      <th>iem_cd</th>\n",
       "      <th>iem_eng_nm</th>\n",
       "      <th>iem_krl_nm</th>\n",
       "    </tr>\n",
       "  </thead>\n",
       "  <tbody>\n",
       "    <tr>\n",
       "      <th>0</th>\n",
       "      <td>A000060</td>\n",
       "      <td>Meritz Fire &amp; Marine Insurance                ...</td>\n",
       "      <td>메리츠화재해상보험보통주                                  ...</td>\n",
       "    </tr>\n",
       "    <tr>\n",
       "      <th>1</th>\n",
       "      <td>A000120</td>\n",
       "      <td>CJ LOGISTICS                                  ...</td>\n",
       "      <td>씨제이대한통운보통주                                    ...</td>\n",
       "    </tr>\n",
       "    <tr>\n",
       "      <th>2</th>\n",
       "      <td>A000540</td>\n",
       "      <td>HeungkukFire&amp;MarineInsurance                  ...</td>\n",
       "      <td>흥국화재해상보험보통주                                   ...</td>\n",
       "    </tr>\n",
       "    <tr>\n",
       "      <th>3</th>\n",
       "      <td>A00088K</td>\n",
       "      <td>HANWHA(3PB)                                   ...</td>\n",
       "      <td>한화3우선주(신형)                                    ...</td>\n",
       "    </tr>\n",
       "    <tr>\n",
       "      <th>4</th>\n",
       "      <td>A000950</td>\n",
       "      <td>Chonbang                                      ...</td>\n",
       "      <td>전방보통주                                         ...</td>\n",
       "    </tr>\n",
       "  </tbody>\n",
       "</table>\n",
       "</div>"
      ],
      "text/plain": [
       "         iem_cd                                         iem_eng_nm  \\\n",
       "0  A000060       Meritz Fire & Marine Insurance                ...   \n",
       "1  A000120       CJ LOGISTICS                                  ...   \n",
       "2  A000540       HeungkukFire&MarineInsurance                  ...   \n",
       "3  A00088K       HANWHA(3PB)                                   ...   \n",
       "4  A000950       Chonbang                                      ...   \n",
       "\n",
       "                                          iem_krl_nm  \n",
       "0  메리츠화재해상보험보통주                                  ...  \n",
       "1  씨제이대한통운보통주                                    ...  \n",
       "2  흥국화재해상보험보통주                                   ...  \n",
       "3  한화3우선주(신형)                                    ...  \n",
       "4  전방보통주                                         ...  "
      ]
     },
     "execution_count": 7,
     "metadata": {},
     "output_type": "execute_result"
    }
   ],
   "source": [
    "input_fd = open('../YNZ 투자자 공모전 리그2/리그2/2_iem_info.csv',errors = 'backslashreplace',encoding='utf-8')\n",
    "iem_info = pd.read_csv(input_fd)\n",
    "iem_info.head()"
   ]
  },
  {
   "cell_type": "code",
   "execution_count": 8,
   "metadata": {},
   "outputs": [
    {
     "data": {
      "text/html": [
       "<div>\n",
       "<style scoped>\n",
       "    .dataframe tbody tr th:only-of-type {\n",
       "        vertical-align: middle;\n",
       "    }\n",
       "\n",
       "    .dataframe tbody tr th {\n",
       "        vertical-align: top;\n",
       "    }\n",
       "\n",
       "    .dataframe thead th {\n",
       "        text-align: right;\n",
       "    }\n",
       "</style>\n",
       "<table border=\"1\" class=\"dataframe\">\n",
       "  <thead>\n",
       "    <tr style=\"text-align: right;\">\n",
       "      <th></th>\n",
       "      <th>act_id</th>\n",
       "      <th>orr_dt</th>\n",
       "      <th>orr_ord</th>\n",
       "      <th>orr_rtn_hur</th>\n",
       "      <th>lst_cns_hur</th>\n",
       "      <th>iem_cd</th>\n",
       "      <th>sby_dit_cd</th>\n",
       "      <th>cns_qty</th>\n",
       "      <th>orr_pr</th>\n",
       "      <th>orr_mdi_dit_cd</th>\n",
       "    </tr>\n",
       "  </thead>\n",
       "  <tbody>\n",
       "    <tr>\n",
       "      <th>0</th>\n",
       "      <td>6caf4de40251d37cbba310f0c6dd0ed8f4c7ca4ccfa675...</td>\n",
       "      <td>20190102</td>\n",
       "      <td>1</td>\n",
       "      <td>12</td>\n",
       "      <td>13</td>\n",
       "      <td>A215600</td>\n",
       "      <td>2</td>\n",
       "      <td>35.0</td>\n",
       "      <td>74200.0</td>\n",
       "      <td>3</td>\n",
       "    </tr>\n",
       "    <tr>\n",
       "      <th>1</th>\n",
       "      <td>6caf4de40251d37cbba310f0c6dd0ed8f4c7ca4ccfa675...</td>\n",
       "      <td>20190102</td>\n",
       "      <td>2</td>\n",
       "      <td>12</td>\n",
       "      <td>12</td>\n",
       "      <td>A001060</td>\n",
       "      <td>2</td>\n",
       "      <td>20.0</td>\n",
       "      <td>41100.0</td>\n",
       "      <td>3</td>\n",
       "    </tr>\n",
       "    <tr>\n",
       "      <th>2</th>\n",
       "      <td>effb34815e1b7efb34beb550f604ede8ac71a5a71edb30...</td>\n",
       "      <td>20190102</td>\n",
       "      <td>1</td>\n",
       "      <td>14</td>\n",
       "      <td>14</td>\n",
       "      <td>A281820</td>\n",
       "      <td>2</td>\n",
       "      <td>20.0</td>\n",
       "      <td>9460.0</td>\n",
       "      <td>4</td>\n",
       "    </tr>\n",
       "    <tr>\n",
       "      <th>3</th>\n",
       "      <td>fea6c038cb7236a02d1e779262698a36219b4c9b527ab1...</td>\n",
       "      <td>20190102</td>\n",
       "      <td>1</td>\n",
       "      <td>12</td>\n",
       "      <td>12</td>\n",
       "      <td>A006650</td>\n",
       "      <td>2</td>\n",
       "      <td>1.0</td>\n",
       "      <td>148500.0</td>\n",
       "      <td>3</td>\n",
       "    </tr>\n",
       "    <tr>\n",
       "      <th>4</th>\n",
       "      <td>fea6c038cb7236a02d1e779262698a36219b4c9b527ab1...</td>\n",
       "      <td>20190102</td>\n",
       "      <td>2</td>\n",
       "      <td>12</td>\n",
       "      <td>13</td>\n",
       "      <td>A051360</td>\n",
       "      <td>2</td>\n",
       "      <td>10.0</td>\n",
       "      <td>6550.0</td>\n",
       "      <td>3</td>\n",
       "    </tr>\n",
       "  </tbody>\n",
       "</table>\n",
       "</div>"
      ],
      "text/plain": [
       "                                              act_id    orr_dt  orr_ord  \\\n",
       "0  6caf4de40251d37cbba310f0c6dd0ed8f4c7ca4ccfa675...  20190102        1   \n",
       "1  6caf4de40251d37cbba310f0c6dd0ed8f4c7ca4ccfa675...  20190102        2   \n",
       "2  effb34815e1b7efb34beb550f604ede8ac71a5a71edb30...  20190102        1   \n",
       "3  fea6c038cb7236a02d1e779262698a36219b4c9b527ab1...  20190102        1   \n",
       "4  fea6c038cb7236a02d1e779262698a36219b4c9b527ab1...  20190102        2   \n",
       "\n",
       "   orr_rtn_hur  lst_cns_hur        iem_cd  sby_dit_cd  cns_qty    orr_pr  \\\n",
       "0           12           13  A215600                2     35.0   74200.0   \n",
       "1           12           12  A001060                2     20.0   41100.0   \n",
       "2           14           14  A281820                2     20.0    9460.0   \n",
       "3           12           12  A006650                2      1.0  148500.0   \n",
       "4           12           13  A051360                2     10.0    6550.0   \n",
       "\n",
       "   orr_mdi_dit_cd  \n",
       "0               3  \n",
       "1               3  \n",
       "2               4  \n",
       "3               3  \n",
       "4               3  "
      ]
     },
     "execution_count": 8,
     "metadata": {},
     "output_type": "execute_result"
    }
   ],
   "source": [
    "input_fd = open('../YNZ 투자자 공모전 리그2/리그2/2_trd_kr.csv',errors = 'backslashreplace',encoding='utf-8')\n",
    "trd_kr = pd.read_csv(input_fd)\n",
    "trd_kr.head()"
   ]
  },
  {
   "cell_type": "code",
   "execution_count": 9,
   "metadata": {},
   "outputs": [
    {
     "data": {
      "text/html": [
       "<div>\n",
       "<style scoped>\n",
       "    .dataframe tbody tr th:only-of-type {\n",
       "        vertical-align: middle;\n",
       "    }\n",
       "\n",
       "    .dataframe tbody tr th {\n",
       "        vertical-align: top;\n",
       "    }\n",
       "\n",
       "    .dataframe thead th {\n",
       "        text-align: right;\n",
       "    }\n",
       "</style>\n",
       "<table border=\"1\" class=\"dataframe\">\n",
       "  <thead>\n",
       "    <tr style=\"text-align: right;\">\n",
       "      <th></th>\n",
       "      <th>act_id</th>\n",
       "      <th>orr_dt</th>\n",
       "      <th>orr_ord</th>\n",
       "      <th>orr_rtn_hur</th>\n",
       "      <th>lst_cns_hur</th>\n",
       "      <th>iem_cd</th>\n",
       "      <th>sby_dit_cd</th>\n",
       "      <th>cns_qty</th>\n",
       "      <th>orr_pr</th>\n",
       "      <th>orr_mdi_dit_cd</th>\n",
       "      <th>cur_cd</th>\n",
       "      <th>trd_cur_xcg_rt</th>\n",
       "    </tr>\n",
       "  </thead>\n",
       "  <tbody>\n",
       "    <tr>\n",
       "      <th>0</th>\n",
       "      <td>12c2bf5b4929fa3cb8b8aa7b45c0d000f7e3b868621b5b...</td>\n",
       "      <td>20190102</td>\n",
       "      <td>1</td>\n",
       "      <td>14</td>\n",
       "      <td>14</td>\n",
       "      <td>CNE100001526</td>\n",
       "      <td>2</td>\n",
       "      <td>100.0</td>\n",
       "      <td>49.1500</td>\n",
       "      <td>3</td>\n",
       "      <td>CNY</td>\n",
       "      <td>162.55</td>\n",
       "    </tr>\n",
       "    <tr>\n",
       "      <th>1</th>\n",
       "      <td>f51b1d8b13186e30aee7a407e235eb87b6b84ed85ca7a4...</td>\n",
       "      <td>20190102</td>\n",
       "      <td>1</td>\n",
       "      <td>1</td>\n",
       "      <td>1</td>\n",
       "      <td>US0378331005</td>\n",
       "      <td>2</td>\n",
       "      <td>10.0</td>\n",
       "      <td>157.6000</td>\n",
       "      <td>3</td>\n",
       "      <td>USD</td>\n",
       "      <td>1118.10</td>\n",
       "    </tr>\n",
       "    <tr>\n",
       "      <th>2</th>\n",
       "      <td>f51b1d8b13186e30aee7a407e235eb87b6b84ed85ca7a4...</td>\n",
       "      <td>20190102</td>\n",
       "      <td>2</td>\n",
       "      <td>1</td>\n",
       "      <td>1</td>\n",
       "      <td>US7561091049</td>\n",
       "      <td>2</td>\n",
       "      <td>2.0</td>\n",
       "      <td>61.9399</td>\n",
       "      <td>3</td>\n",
       "      <td>USD</td>\n",
       "      <td>1118.10</td>\n",
       "    </tr>\n",
       "    <tr>\n",
       "      <th>3</th>\n",
       "      <td>37bc7b62e55f0cf8402a1f86dc8d09b09a3028bb13afa6...</td>\n",
       "      <td>20190103</td>\n",
       "      <td>1</td>\n",
       "      <td>2</td>\n",
       "      <td>3</td>\n",
       "      <td>US9229083632</td>\n",
       "      <td>2</td>\n",
       "      <td>3.0</td>\n",
       "      <td>225.0000</td>\n",
       "      <td>3</td>\n",
       "      <td>USD</td>\n",
       "      <td>1119.00</td>\n",
       "    </tr>\n",
       "    <tr>\n",
       "      <th>4</th>\n",
       "      <td>e340482168a2154b323ec2b9a0d003d840590ddafb0e2b...</td>\n",
       "      <td>20190103</td>\n",
       "      <td>1</td>\n",
       "      <td>0</td>\n",
       "      <td>0</td>\n",
       "      <td>US74347X8314</td>\n",
       "      <td>1</td>\n",
       "      <td>6.0</td>\n",
       "      <td>34.5000</td>\n",
       "      <td>3</td>\n",
       "      <td>USD</td>\n",
       "      <td>1119.00</td>\n",
       "    </tr>\n",
       "  </tbody>\n",
       "</table>\n",
       "</div>"
      ],
      "text/plain": [
       "                                              act_id    orr_dt  orr_ord  \\\n",
       "0  12c2bf5b4929fa3cb8b8aa7b45c0d000f7e3b868621b5b...  20190102        1   \n",
       "1  f51b1d8b13186e30aee7a407e235eb87b6b84ed85ca7a4...  20190102        1   \n",
       "2  f51b1d8b13186e30aee7a407e235eb87b6b84ed85ca7a4...  20190102        2   \n",
       "3  37bc7b62e55f0cf8402a1f86dc8d09b09a3028bb13afa6...  20190103        1   \n",
       "4  e340482168a2154b323ec2b9a0d003d840590ddafb0e2b...  20190103        1   \n",
       "\n",
       "   orr_rtn_hur  lst_cns_hur        iem_cd  sby_dit_cd  cns_qty    orr_pr  \\\n",
       "0           14           14  CNE100001526           2    100.0   49.1500   \n",
       "1            1            1  US0378331005           2     10.0  157.6000   \n",
       "2            1            1  US7561091049           2      2.0   61.9399   \n",
       "3            2            3  US9229083632           2      3.0  225.0000   \n",
       "4            0            0  US74347X8314           1      6.0   34.5000   \n",
       "\n",
       "   orr_mdi_dit_cd cur_cd  trd_cur_xcg_rt  \n",
       "0               3    CNY          162.55  \n",
       "1               3    USD         1118.10  \n",
       "2               3    USD         1118.10  \n",
       "3               3    USD         1119.00  \n",
       "4               3    USD         1119.00  "
      ]
     },
     "execution_count": 9,
     "metadata": {},
     "output_type": "execute_result"
    }
   ],
   "source": [
    "input_fd = open('../YNZ 투자자 공모전 리그2/리그2/2_trd_oss.csv',errors = 'backslashreplace',encoding='utf-8')\n",
    "trd_oss = pd.read_csv(input_fd)\n",
    "trd_oss.head()"
   ]
  },
  {
   "cell_type": "code",
   "execution_count": 10,
   "metadata": {},
   "outputs": [],
   "source": [
    "#테이블 병합(국내기업 투자 데이터)\n",
    "iem_trd = pd.merge(trd_kr, iem_info, on = 'iem_cd', how = 'left')\n",
    "iem_trd_act = pd.merge(iem_trd, act_info, on = 'act_id', how = 'left')\n",
    "iem_trd_act_cus = pd.merge(iem_trd_act, cus_info, on = 'cus_id', how = 'left')"
   ]
  },
  {
   "cell_type": "code",
   "execution_count": 11,
   "metadata": {},
   "outputs": [],
   "source": [
    "#Z세대(20대)\n",
    "iem_trd_act_cus_20 = iem_trd_act_cus[(iem_trd_act_cus['cus_age']==20) | (iem_trd_act_cus['cus_age']==25)]\n",
    "iem_trd_act_cus_20.reset_index(drop = True, inplace = True)"
   ]
  },
  {
   "cell_type": "code",
   "execution_count": 12,
   "metadata": {},
   "outputs": [],
   "source": [
    "#Y세대(30대)\n",
    "iem_trd_act_cus_30 = iem_trd_act_cus[(iem_trd_act_cus['cus_age'] == 30) | (iem_trd_act_cus['cus_age'] == 35)]\n",
    "iem_trd_act_cus_30.reset_index(drop = True, inplace = True)"
   ]
  },
  {
   "cell_type": "code",
   "execution_count": 27,
   "metadata": {},
   "outputs": [],
   "source": [
    "#X세대(40대)\n",
    "iem_trd_act_cus_40 = iem_trd_act_cus[(iem_trd_act_cus['cus_age'] == 40) | (iem_trd_act_cus['cus_age'] == 45)]\n",
    "iem_trd_act_cus_40.reset_index(drop = True, inplace = True)"
   ]
  },
  {
   "cell_type": "markdown",
   "metadata": {},
   "source": [
    "### 1. Y&Z 세대는 어떤 기업에 가장 많이 투자할까?"
   ]
  },
  {
   "cell_type": "markdown",
   "metadata": {},
   "source": [
    "전체 연령대/20대/30대/40대가 가장 많이 투자하는 기업 top20(국내/해외 각각)을 뽑아보고 해당 기업들의 특징을 조사한다."
   ]
  },
  {
   "cell_type": "code",
   "execution_count": 14,
   "metadata": {},
   "outputs": [
    {
     "data": {
      "text/plain": [
       "삼성전자보통주                                                         64253\n",
       "케이씨그린홀딩스보통주                                                     59403\n",
       "한창보통주                                                           45322\n",
       "에이치엠엠보통주                                                        37722\n",
       "삼성 KODEX 200선물인버스2X증권상장지수투자신탁(주식-파생형)                           31945\n",
       "미래산업보통주                                                         27254\n",
       "홈캐스트                                                            26688\n",
       "삼성KODEX레버리지증권상장지수투자신탁[주식-파생형]                                   25215\n",
       "에스케이하이닉스보통주                                                     21063\n",
       "파미셀보통주                                                          18665\n",
       "셀트리온보통주                                                         18523\n",
       "남선알미늄보통주                                                        18459\n",
       "에이치엘비                                                           17734\n",
       "신라젠                                                             17511\n",
       "씨젠                                                              17482\n",
       "삼성 KODEX 코스닥150 레버리지증권상장지수투자신탁(주식-파생                            17195\n",
       "신풍제약보통주                                                         16882\n",
       "카카오보통주                                                          16206\n",
       "국일제지                                                            15911\n",
       "데코앤이                                                            14652\n",
       "Name: iem_krl_nm, dtype: int64"
      ]
     },
     "execution_count": 14,
     "metadata": {},
     "output_type": "execute_result"
    }
   ],
   "source": [
    "#전체 연령대 top20 기업(국내)\n",
    "iem_trd_act_cus['iem_krl_nm'].value_counts().head(20)"
   ]
  },
  {
   "cell_type": "code",
   "execution_count": 77,
   "metadata": {},
   "outputs": [
    {
     "data": {
      "text/plain": [
       "삼성전자보통주                                                         4980\n",
       "삼성 KODEX 200선물인버스2X증권상장지수투자신탁(주식-파생형)                           3919\n",
       "삼성KODEX레버리지증권상장지수투자신탁[주식-파생형]                                   1889\n",
       "남선알미늄보통주                                                        1871\n",
       "씨젠                                                              1722\n",
       "에스케이하이닉스보통주                                                     1597\n",
       "카카오보통주                                                          1507\n",
       "아난티                                                             1400\n",
       "현대자동차보통주                                                        1349\n",
       "한진칼보통주                                                          1347\n",
       "국일제지                                                            1340\n",
       "삼성전자1우선주                                                        1331\n",
       "빅텍                                                              1320\n",
       "파미셀보통주                                                          1250\n",
       "디피씨보통주                                                          1205\n",
       "와이비엠넷                                                           1148\n",
       "웰크론                                                             1027\n",
       "신풍제약보통주                                                         1027\n",
       "이원다이애그노믹스                                                       1008\n",
       "두산퓨얼셀보통주                                                         983\n",
       "Name: iem_krl_nm, dtype: int64"
      ]
     },
     "execution_count": 77,
     "metadata": {},
     "output_type": "execute_result"
    }
   ],
   "source": [
    "#20대가 투자하는 top20 기업(국내)\n",
    "iem_trd_act_cus_20['iem_krl_nm'].value_counts().head(20)"
   ]
  },
  {
   "cell_type": "code",
   "execution_count": 16,
   "metadata": {},
   "outputs": [
    {
     "data": {
      "text/plain": [
       "삼성전자보통주                                                         11215\n",
       "삼성 KODEX 200선물인버스2X증권상장지수투자신탁(주식-파생형)                           10932\n",
       "삼성 KODEX 코스닥150 레버리지증권상장지수투자신탁(주식-파생                             9456\n",
       "삼성KODEX레버리지증권상장지수투자신탁[주식-파생형]                                    7542\n",
       "에이치엘비                                                            6787\n",
       "에스케이하이닉스보통주                                                      4053\n",
       "파미셀보통주                                                           3851\n",
       "씨젠                                                               3849\n",
       "국일제지                                                             3813\n",
       "웰크론                                                              3627\n",
       "남선알미늄보통주                                                         3405\n",
       "한진칼보통주                                                           3329\n",
       "셀트리온헬스케어                                                         3283\n",
       "아난티                                                              3217\n",
       "디피씨보통주                                                           3198\n",
       "신풍제약보통주                                                          3003\n",
       "카카오보통주                                                           2867\n",
       "삼성전자1우선주                                                         2845\n",
       "빅텍                                                               2570\n",
       "삼성 KODEX WTI원유선물특별자산상장지수투자신탁[원유-파생형](                            2556\n",
       "Name: iem_krl_nm, dtype: int64"
      ]
     },
     "execution_count": 16,
     "metadata": {},
     "output_type": "execute_result"
    }
   ],
   "source": [
    "#30대가 투자하는 top20 기업(국내)\n",
    "iem_trd_act_cus_30['iem_krl_nm'].value_counts().head(20)"
   ]
  },
  {
   "cell_type": "code",
   "execution_count": 28,
   "metadata": {},
   "outputs": [
    {
     "data": {
      "text/plain": [
       "케이씨그린홀딩스보통주                                                     59024\n",
       "한창보통주                                                           40858\n",
       "에이치엠엠보통주                                                        35219\n",
       "홈캐스트                                                            26217\n",
       "미래산업보통주                                                         25900\n",
       "삼성전자보통주                                                         21929\n",
       "데코앤이                                                            14545\n",
       "삼성 KODEX 200선물인버스2X증권상장지수투자신탁(주식-파생형)                            5910\n",
       "현대미포조선보통주                                                        5840\n",
       "남선알미늄보통주                                                         5021\n",
       "국일제지                                                             4771\n",
       "이화전기공업                                                           4700\n",
       "신풍제약보통주                                                          4615\n",
       "셀트리온보통주                                                          4512\n",
       "삼성KODEX레버리지증권상장지수투자신탁[주식-파생형]                                    3970\n",
       "씨젠                                                               3954\n",
       "신라젠                                                              3940\n",
       "에스케이하이닉스보통주                                                      3884\n",
       "마니커보통주                                                           3779\n",
       "카카오보통주                                                           3605\n",
       "Name: iem_krl_nm, dtype: int64"
      ]
     },
     "execution_count": 28,
     "metadata": {},
     "output_type": "execute_result"
    }
   ],
   "source": [
    "#40대가 투자하는 top20 기업(국내)\n",
    "iem_trd_act_cus_40['iem_krl_nm'].value_counts().head(20)"
   ]
  },
  {
   "cell_type": "markdown",
   "metadata": {},
   "source": [
    "기성세대로 갈수록 count가 눈에 띄게 늘어나는 것을 통해 연령대가 높아질수록 주식투자를 많이 한다는 것을 알 수 있다. 일반적으로 나이가 많을수록 자산이 많기 때문에 주식투자 또한 연령대가 높아질수록 많이 하는 것으로 나타나는 것으로 보인다. 20대의 경우 위 세대에 비해 카카오보통주 등 첨단 기술을 사용하는 사업에 투자하는 비율이 더 높게 나타난다. '씨젠'은 시약 및 의료용품 제조업체로, 코로나바이러스감염증-19의 진단 키트를 세계 최초로 개발해낸 회사로 잘 알려져 있다. 전 세대에 걸쳐 씨젠이 순위권에 들어가는 것은 코로나19의 영향이 주식시장에도 큰 영향을 준다는 것으로 보인다."
   ]
  },
  {
   "cell_type": "code",
   "execution_count": 68,
   "metadata": {},
   "outputs": [],
   "source": [
    "#테이블 병합(해외기업 투자 데이터)\n",
    "iem_trd_oss = pd.merge(trd_oss, iem_info, on = 'iem_cd', how = 'left')\n",
    "iem_trd_act_oss = pd.merge(iem_trd_oss, act_info, on = 'act_id', how = 'left')\n",
    "iem_trd_act_cus_oss = pd.merge(iem_trd_act_oss, cus_info, on = 'cus_id', how = 'left')"
   ]
  },
  {
   "cell_type": "code",
   "execution_count": 69,
   "metadata": {},
   "outputs": [],
   "source": [
    "#20대\n",
    "iem_trd_act_cus_20_oss = iem_trd_act_cus_oss[(iem_trd_act_cus_oss['cus_age']==20) | (iem_trd_act_cus_oss['cus_age']==25)]\n",
    "iem_trd_act_cus_20_oss.reset_index(drop = True, inplace = True)"
   ]
  },
  {
   "cell_type": "code",
   "execution_count": 70,
   "metadata": {},
   "outputs": [],
   "source": [
    "#30대\n",
    "iem_trd_act_cus_30_oss = iem_trd_act_cus_oss[(iem_trd_act_cus_oss['cus_age']==30) | (iem_trd_act_cus_oss['cus_age']==35)]\n",
    "iem_trd_act_cus_30_oss.reset_index(drop = True, inplace = True)"
   ]
  },
  {
   "cell_type": "code",
   "execution_count": 71,
   "metadata": {},
   "outputs": [],
   "source": [
    "#40대\n",
    "iem_trd_act_cus_40_oss = iem_trd_act_cus_oss[(iem_trd_act_cus_oss['cus_age']==40) | (iem_trd_act_cus_oss['cus_age']==45)]\n",
    "iem_trd_act_cus_40_oss.reset_index(drop = True, inplace = True)"
   ]
  },
  {
   "cell_type": "code",
   "execution_count": 72,
   "metadata": {},
   "outputs": [
    {
     "data": {
      "text/plain": [
       "마이크로소프트                                                         1007\n",
       "델타 에어라인스                                                         875\n",
       "애플                                                               756\n",
       "AT&T                                                             710\n",
       "월트 디즈니                                                           654\n",
       "테슬라                                                              651\n",
       "스타벅스                                                             489\n",
       "보잉                                                               488\n",
       "코카콜라                                                             483\n",
       "리얼티 인컴                                                           414\n",
       "AMD                                                              410\n",
       "ProShares:UltP Sht QQQ                                           353\n",
       "알파벳 CLASS A (voting)                                             297\n",
       "MICRSECTRS US BIG OIL IDX 3X LVG ETN                             289\n",
       "EPR 프로퍼티스                                                        277\n",
       "CS VELOCITYSHARES 3X LNG NTRL GS ETN                             274\n",
       "카니발                                                              263\n",
       "인텔                                                               253\n",
       "Virgin Galactic Holdings                                         243\n",
       "아머 레지덴셜 리츠                                                       234\n",
       "Name: iem_krl_nm, dtype: int64"
      ]
     },
     "execution_count": 72,
     "metadata": {},
     "output_type": "execute_result"
    }
   ],
   "source": [
    "#전체 연령대 top20 기업(해외)\n",
    "iem_trd_act_cus_oss['iem_krl_nm'].value_counts().head(20)"
   ]
  },
  {
   "cell_type": "code",
   "execution_count": 73,
   "metadata": {},
   "outputs": [
    {
     "data": {
      "text/plain": [
       "델타 에어라인스                                                        255\n",
       "AMD                                                             231\n",
       "퍼스트 머제스틱 실버                                                     222\n",
       "테슬라                                                             206\n",
       "마이크로소프트                                                         203\n",
       "코카콜라                                                            187\n",
       "월트 디즈니                                                          177\n",
       "AT&T                                                            172\n",
       "보잉                                                              156\n",
       "ProShares:UltP Sht QQQ                                          154\n",
       "애플                                                              148\n",
       "Virgin Galactic Holdings                                        129\n",
       "스타벅스                                                            127\n",
       "MICRSECTRS US BIG OIL IDX 3X LVG ETN                            119\n",
       "Luckin Coffee                                                   109\n",
       "카니발                                                             105\n",
       "엑슨 모빌                                                            99\n",
       "Uber                                                             91\n",
       "인텔                                                               88\n",
       "아이바이오                                                            83\n",
       "Name: iem_krl_nm, dtype: int64"
      ]
     },
     "execution_count": 73,
     "metadata": {},
     "output_type": "execute_result"
    }
   ],
   "source": [
    "#20대가 투자하는 top20 기업(해외)\n",
    "iem_trd_act_cus_20_oss['iem_krl_nm'].value_counts().head(20)"
   ]
  },
  {
   "cell_type": "code",
   "execution_count": 74,
   "metadata": {},
   "outputs": [
    {
     "data": {
      "text/plain": [
       "델타 에어라인스                                                        321\n",
       "마이크로소프트                                                         268\n",
       "보잉                                                              221\n",
       "EPR 프로퍼티스                                                       216\n",
       "아머 레지덴셜 리츠                                                      201\n",
       "애플                                                              197\n",
       "테슬라                                                             189\n",
       "월트 디즈니                                                          173\n",
       "AT&T                                                            171\n",
       "코카콜라                                                            148\n",
       "뱅가드토탈스톡마켓ETF                                                    132\n",
       "ProShares:UltP Sht QQQ                                          129\n",
       "AMD                                                             123\n",
       "리얼티 인컴                                                          116\n",
       "카니발                                                             115\n",
       "스타벅스                                                            104\n",
       "사이먼 프로퍼티 그룹                                                     102\n",
       "파크 호텔스 & 리조츠                                                    102\n",
       "메인 스트리트 캐피털                                                      81\n",
       "MICRSECTRS US BIG OIL IDX 3X LVG ETN                             80\n",
       "Name: iem_krl_nm, dtype: int64"
      ]
     },
     "execution_count": 74,
     "metadata": {},
     "output_type": "execute_result"
    }
   ],
   "source": [
    "#30대가 투자하는 top20 기업(해외)\n",
    "iem_trd_act_cus_30_oss['iem_krl_nm'].value_counts().head(20)"
   ]
  },
  {
   "cell_type": "code",
   "execution_count": 75,
   "metadata": {},
   "outputs": [
    {
     "data": {
      "text/plain": [
       "마이크로소프트                                                         354\n",
       "애플                                                              276\n",
       "AT&T                                                            247\n",
       "리얼티 인컴                                                          223\n",
       "CS VELOCITYSHARES 3X LNG NTRL GS ETN                            223\n",
       "월트 디즈니                                                          196\n",
       "델타 에어라인스                                                        152\n",
       "스타벅스                                                            150\n",
       "테슬라                                                             136\n",
       "인텔                                                              113\n",
       "US 글로벌 제츠 ETF                                                   113\n",
       "알파벳 CLASS A (voting)                                            105\n",
       "코카콜라                                                             91\n",
       "INVESCO S&P 500 HIGH DIVIDEND LOW VOL                            90\n",
       "인베스코 QQQ 트러스트 시리즈 1                                              88\n",
       "아이셰어즈20+이어트레저리본드ETF                                              88\n",
       "메인 스트리트 캐피털                                                      86\n",
       "MICRSECTRS US BIG OIL IDX 3X LVG ETN                             84\n",
       "Virgin Galactic Holdings                                         77\n",
       "NIO Inc.                                                         77\n",
       "Name: iem_krl_nm, dtype: int64"
      ]
     },
     "execution_count": 75,
     "metadata": {},
     "output_type": "execute_result"
    }
   ],
   "source": [
    "#40대가 투자하는 top20 기업(해외)\n",
    "iem_trd_act_cus_40_oss['iem_krl_nm'].value_counts().head(20)"
   ]
  },
  {
   "cell_type": "markdown",
   "metadata": {},
   "source": [
    "- 전 세대에서 마이크로소프트, 코카콜라, 애플, 페이스북, 스타벅스 등 국내에서 인지도가 높은 기업에 투자를 많이 하는 것으로 나타난다. 특히 20대는 Uber(스마트폰 기반의 승차 공유 서비스) 등 첨단 기술을 사용한 기업에도 많이 투자하는 것으로 보인다.\n",
    "- 델타 에어라인스: 미국의 메이저 항공사. 본사는 조지아주 애틀랜타에 있으며, 총 여객 운송수, 보유 항공기수, 연간 매출액을 기준으로 세계 최대의 항공사로 꼽힌다.\n",
    "- AT&T 주식회사는 미국의 다국적 복합 지주회사이다. AT&T는 세계 최대 통신 기업이다. 미국의 최대 유선 전화 서비스와 제2위의 이동전화 서비스 제공자이다. 또한 시가총액 기준으로 세계 2위 미디어그룹이다.\n",
    "- ProShares:UltP Sht QQQ : ProShares는 레버리지 교환 거래 펀드와 같은 금융 상품의 미국 제공 업체이다."
   ]
  },
  {
   "cell_type": "markdown",
   "metadata": {},
   "source": [
    "### 2. Y&Z세대는 어떤 국가에 주로 투자할까?"
   ]
  },
  {
   "cell_type": "code",
   "execution_count": 82,
   "metadata": {},
   "outputs": [
    {
     "data": {
      "text/plain": [
       "Text(0, 0.5, 'Frequency')"
      ]
     },
     "execution_count": 82,
     "metadata": {},
     "output_type": "execute_result"
    },
    {
     "data": {
      "image/png": "[encoded data removed]",
      "text/plain": [
       "<Figure size 432x288 with 1 Axes>"
      ]
     },
     "metadata": {},
     "output_type": "display_data"
    }
   ],
   "source": [
    "ax = plt.subplots() \n",
    "ax = sns.countplot('cur_cd', data=trd_oss) \n",
    "ax.set_title('거래통화코드(전체 연령대)') \n",
    "ax.set_xlabel('cur_cd') \n",
    "ax.set_ylabel('Frequency') "
   ]
  },
  {
   "cell_type": "markdown",
   "metadata": {},
   "source": [
    "AUD: 오스트레일리아-달러 / CAD: 캐나다-달러 / CNY: 렌민비(위안) EUR: 유로 / GBP: 영국-파운드/ HKD: 홍콩-달러 / IDR: 루피아 /\n",
    "JPY:일본-엔 / KRW: 대한민국-원 / SGD: 싱가포르-달러 /\n",
    "USD: 미국-달러 / VND: 동"
   ]
  },
  {
   "cell_type": "markdown",
   "metadata": {},
   "source": [
    "거래통화코드를 각 나라의 주식을 산 것으로 해석하면(예: USD는 미국 주식에 투자) 각 연령대별로 어떤 국가에 많이 투자하는지 알 수 있다."
   ]
  },
  {
   "cell_type": "code",
   "execution_count": 95,
   "metadata": {},
   "outputs": [
    {
     "data": {
      "text/plain": [
       "Text(0.5, 1.0, '거래통화코드(20대)')"
      ]
     },
     "execution_count": 95,
     "metadata": {},
     "output_type": "execute_result"
    },
    {
     "data": {
      "image/png": "[encoded data removed]",
      "text/plain": [
       "<Figure size 432x288 with 1 Axes>"
      ]
     },
     "metadata": {},
     "output_type": "display_data"
    }
   ],
   "source": [
    "ax = plt.subplots() \n",
    "ax = sns.countplot('cur_cd', data=iem_trd_act_cus_20_oss) \n",
    "ax.set_title('거래통화코드(20대)') "
   ]
  },
  {
   "cell_type": "code",
   "execution_count": 94,
   "metadata": {},
   "outputs": [
    {
     "data": {
      "text/plain": [
       "Text(0.5, 1.0, '거래통화코드(30대)')"
      ]
     },
     "execution_count": 94,
     "metadata": {},
     "output_type": "execute_result"
    },
    {
     "data": {
      "image/png": "[encoded data removed]",
      "text/plain": [
       "<Figure size 432x288 with 1 Axes>"
      ]
     },
     "metadata": {},
     "output_type": "display_data"
    }
   ],
   "source": [
    "ax = plt.subplots() \n",
    "ax = sns.countplot('cur_cd', data=iem_trd_act_cus_30_oss) \n",
    "ax.set_title('거래통화코드(30대)') "
   ]
  },
  {
   "cell_type": "code",
   "execution_count": 93,
   "metadata": {},
   "outputs": [
    {
     "data": {
      "text/plain": [
       "Text(0.5, 1.0, '거래통화코드(40대)')"
      ]
     },
     "execution_count": 93,
     "metadata": {},
     "output_type": "execute_result"
    },
    {
     "data": {
      "image/png": "[encoded data removed]",
      "text/plain": [
       "<Figure size 432x288 with 1 Axes>"
      ]
     },
     "metadata": {},
     "output_type": "display_data"
    }
   ],
   "source": [
    "ax = plt.subplots() \n",
    "ax = sns.countplot('cur_cd', data=iem_trd_act_cus_40_oss) \n",
    "ax.set_title('거래통화코드(40대)') "
   ]
  },
  {
   "cell_type": "markdown",
   "metadata": {},
   "source": [
    "20~40대 모두 미국에 압도적으로 많은 투자를 하는 것을 알 수 있다. 30대는 중국, 40대는 중국과 홍콩에도 투자를 하고 있다. 20대의 경우 주식투자를 시작한지 얼마 안 되었기 때문에 잘 알려진 미국 주식에 주로 투자를 하는 것으로 나타난다. 세 연령대 모두 미국 주식이 압도적으로 많기 때문에 다른 국가들에 대한 투자는 거의 보이지 않는다. 그래프에서 잘 보이지 않는 자료를 수치로 나타내면 아래와 같다."
   ]
  },
  {
   "cell_type": "code",
   "execution_count": 90,
   "metadata": {},
   "outputs": [
    {
     "data": {
      "text/plain": [
       "USD    7372\n",
       "CNY      28\n",
       "VND      25\n",
       "EUR      24\n",
       "JPY      20\n",
       "HKD      11\n",
       "CAD       6\n",
       "GBP       2\n",
       "AUD       2\n",
       "Name: cur_cd, dtype: int64"
      ]
     },
     "execution_count": 90,
     "metadata": {},
     "output_type": "execute_result"
    }
   ],
   "source": [
    "#20대\n",
    "iem_trd_act_cus_20_oss['cur_cd'].value_counts()"
   ]
  },
  {
   "cell_type": "code",
   "execution_count": 91,
   "metadata": {},
   "outputs": [
    {
     "data": {
      "text/plain": [
       "USD    6916\n",
       "CNY      82\n",
       "GBP      30\n",
       "JPY      28\n",
       "VND      11\n",
       "HKD       9\n",
       "AUD       4\n",
       "EUR       3\n",
       "CAD       2\n",
       "IDR       1\n",
       "Name: cur_cd, dtype: int64"
      ]
     },
     "execution_count": 91,
     "metadata": {},
     "output_type": "execute_result"
    }
   ],
   "source": [
    "#30대\n",
    "iem_trd_act_cus_30_oss['cur_cd'].value_counts()"
   ]
  },
  {
   "cell_type": "code",
   "execution_count": 92,
   "metadata": {},
   "outputs": [
    {
     "data": {
      "text/plain": [
       "USD    6980\n",
       "CNY     130\n",
       "HKD      83\n",
       "JPY      41\n",
       "IDR      33\n",
       "SGD      30\n",
       "EUR      24\n",
       "VND      23\n",
       "CAD       9\n",
       "GBP       2\n",
       "Name: cur_cd, dtype: int64"
      ]
     },
     "execution_count": 92,
     "metadata": {},
     "output_type": "execute_result"
    }
   ],
   "source": [
    "#40대\n",
    "iem_trd_act_cus_40_oss['cur_cd'].value_counts()"
   ]
  },
  {
   "cell_type": "markdown",
   "metadata": {},
   "source": [
    "### 3. Y&Z세대는 주식을 어떻게 살까? "
   ]
  },
  {
   "cell_type": "markdown",
   "metadata": {},
   "source": [
    "주문매체구분코드 데이터를 통해 Y&Z 세대는 어떻게 주식을 사는지, 주식을 사는 방식이 위 세대와 다른지 조사한다."
   ]
  },
  {
   "cell_type": "markdown",
   "metadata": {},
   "source": [
    "1:영업점단말 \n",
    "\n",
    "2:유선단말\n",
    "\n",
    "3:무선단말MTS\n",
    "\n",
    "4:HTS"
   ]
  },
  {
   "cell_type": "code",
   "execution_count": 100,
   "metadata": {},
   "outputs": [
    {
     "data": {
      "text/plain": [
       "3    198689\n",
       "4     20654\n",
       "1       526\n",
       "Name: orr_mdi_dit_cd, dtype: int64"
      ]
     },
     "execution_count": 100,
     "metadata": {},
     "output_type": "execute_result"
    }
   ],
   "source": [
    "iem_trd_act_cus_20['orr_mdi_dit_cd'].value_counts()"
   ]
  },
  {
   "cell_type": "code",
   "execution_count": 101,
   "metadata": {},
   "outputs": [
    {
     "data": {
      "text/plain": [
       "3    583859\n",
       "4     34672\n",
       "1       220\n",
       "Name: orr_mdi_dit_cd, dtype: int64"
      ]
     },
     "execution_count": 101,
     "metadata": {},
     "output_type": "execute_result"
    }
   ],
   "source": [
    "iem_trd_act_cus_30['orr_mdi_dit_cd'].value_counts()"
   ]
  },
  {
   "cell_type": "code",
   "execution_count": 102,
   "metadata": {},
   "outputs": [
    {
     "data": {
      "text/plain": [
       "3    836987\n",
       "4    175090\n",
       "1      5177\n",
       "2       405\n",
       "Name: orr_mdi_dit_cd, dtype: int64"
      ]
     },
     "execution_count": 102,
     "metadata": {},
     "output_type": "execute_result"
    }
   ],
   "source": [
    "iem_trd_act_cus_40['orr_mdi_dit_cd'].value_counts()"
   ]
  },
  {
   "cell_type": "code",
   "execution_count": 96,
   "metadata": {},
   "outputs": [
    {
     "data": {
      "text/plain": [
       "3    7324\n",
       "1     118\n",
       "4      48\n",
       "Name: orr_mdi_dit_cd, dtype: int64"
      ]
     },
     "execution_count": 96,
     "metadata": {},
     "output_type": "execute_result"
    }
   ],
   "source": [
    "iem_trd_act_cus_20_oss['orr_mdi_dit_cd'].value_counts()"
   ]
  },
  {
   "cell_type": "code",
   "execution_count": 98,
   "metadata": {},
   "outputs": [
    {
     "data": {
      "text/plain": [
       "3    6853\n",
       "4     215\n",
       "1      18\n",
       "Name: orr_mdi_dit_cd, dtype: int64"
      ]
     },
     "execution_count": 98,
     "metadata": {},
     "output_type": "execute_result"
    }
   ],
   "source": [
    "iem_trd_act_cus_30_oss['orr_mdi_dit_cd'].value_counts()"
   ]
  },
  {
   "cell_type": "code",
   "execution_count": 99,
   "metadata": {},
   "outputs": [
    {
     "data": {
      "text/plain": [
       "3    6929\n",
       "1     232\n",
       "4     194\n",
       "Name: orr_mdi_dit_cd, dtype: int64"
      ]
     },
     "execution_count": 99,
     "metadata": {},
     "output_type": "execute_result"
    }
   ],
   "source": [
    "iem_trd_act_cus_40_oss['orr_mdi_dit_cd'].value_counts()"
   ]
  },
  {
   "cell_type": "markdown",
   "metadata": {},
   "source": [
    "모든 연령대가 무선단말MTS를 주로 사용했고, 40대(국내 주식)의 경우 다른 세대와 달리 유선단말도 사용하는 것을 알 수 있다. 위 내용을 시각화하면 다음과 같다."
   ]
  },
  {
   "cell_type": "code",
   "execution_count": 109,
   "metadata": {},
   "outputs": [
    {
     "data": {
      "text/plain": [
       "Text(0.5, 1.0, '주문 매체(20대, 국내 주식)')"
      ]
     },
     "execution_count": 109,
     "metadata": {},
     "output_type": "execute_result"
    },
    {
     "data": {
      "image/png": "[encoded data removed]",
      "text/plain": [
       "<Figure size 432x288 with 1 Axes>"
      ]
     },
     "metadata": {},
     "output_type": "display_data"
    }
   ],
   "source": [
    "ax = plt.subplots() \n",
    "ax = sns.countplot('orr_mdi_dit_cd', data=iem_trd_act_cus_20) \n",
    "ax.set_title('주문 매체(20대, 국내 주식)') "
   ]
  },
  {
   "cell_type": "code",
   "execution_count": 110,
   "metadata": {},
   "outputs": [
    {
     "data": {
      "text/plain": [
       "Text(0.5, 1.0, '주문 매체(30대, 국내 주식)')"
      ]
     },
     "execution_count": 110,
     "metadata": {},
     "output_type": "execute_result"
    },
    {
     "data": {
      "image/png": "[encoded data removed]",
      "text/plain": [
       "<Figure size 432x288 with 1 Axes>"
      ]
     },
     "metadata": {},
     "output_type": "display_data"
    }
   ],
   "source": [
    "ax = plt.subplots() \n",
    "ax = sns.countplot('orr_mdi_dit_cd', data=iem_trd_act_cus_30) \n",
    "ax.set_title('주문 매체(30대, 국내 주식)') "
   ]
  },
  {
   "cell_type": "code",
   "execution_count": 111,
   "metadata": {},
   "outputs": [
    {
     "data": {
      "text/plain": [
       "Text(0.5, 1.0, '주문 매체(40대, 국내 주식)')"
      ]
     },
     "execution_count": 111,
     "metadata": {},
     "output_type": "execute_result"
    },
    {
     "data": {
      "image/png": "[encoded data removed]",
      "text/plain": [
       "<Figure size 432x288 with 1 Axes>"
      ]
     },
     "metadata": {},
     "output_type": "display_data"
    }
   ],
   "source": [
    "ax = plt.subplots() \n",
    "ax = sns.countplot('orr_mdi_dit_cd', data=iem_trd_act_cus_40) \n",
    "ax.set_title('주문 매체(40대, 국내 주식)') "
   ]
  },
  {
   "cell_type": "code",
   "execution_count": 106,
   "metadata": {},
   "outputs": [
    {
     "data": {
      "text/plain": [
       "Text(0.5, 1.0, '주문 매체(20대, 해외 주식)')"
      ]
     },
     "execution_count": 106,
     "metadata": {},
     "output_type": "execute_result"
    },
    {
     "data": {
      "image/png": "[encoded data removed]",
      "text/plain": [
       "<Figure size 432x288 with 1 Axes>"
      ]
     },
     "metadata": {},
     "output_type": "display_data"
    }
   ],
   "source": [
    "ax = plt.subplots() \n",
    "ax = sns.countplot('orr_mdi_dit_cd', data=iem_trd_act_cus_20_oss) \n",
    "ax.set_title('주문 매체(20대, 해외 주식)') "
   ]
  },
  {
   "cell_type": "code",
   "execution_count": 107,
   "metadata": {},
   "outputs": [
    {
     "data": {
      "text/plain": [
       "Text(0.5, 1.0, '주문 매체(30대, 해외 주식)')"
      ]
     },
     "execution_count": 107,
     "metadata": {},
     "output_type": "execute_result"
    },
    {
     "data": {
      "image/png": "[encoded data removed]",
      "text/plain": [
       "<Figure size 432x288 with 1 Axes>"
      ]
     },
     "metadata": {},
     "output_type": "display_data"
    }
   ],
   "source": [
    "ax = plt.subplots() \n",
    "ax = sns.countplot('orr_mdi_dit_cd', data=iem_trd_act_cus_30_oss) \n",
    "ax.set_title('주문 매체(30대, 해외 주식)') "
   ]
  },
  {
   "cell_type": "code",
   "execution_count": 108,
   "metadata": {},
   "outputs": [
    {
     "data": {
      "text/plain": [
       "Text(0.5, 1.0, '주문 매체(40대, 해외 주식)')"
      ]
     },
     "execution_count": 108,
     "metadata": {},
     "output_type": "execute_result"
    },
    {
     "data": {
      "image/png": "[encoded data removed]",
      "text/plain": [
       "<Figure size 432x288 with 1 Axes>"
      ]
     },
     "metadata": {},
     "output_type": "display_data"
    }
   ],
   "source": [
    "ax = plt.subplots() \n",
    "ax = sns.countplot('orr_mdi_dit_cd', data=iem_trd_act_cus_40) \n",
    "ax.set_title('주문 매체(40대, 해외 주식)') "
   ]
  }
 ],
 "metadata": {
  "kernelspec": {
   "display_name": "Python 3",
   "language": "python",
   "name": "python3"
  },
  "language_info": {
   "codemirror_mode": {
    "name": "ipython",
    "version": 3
   },
   "file_extension": ".py",
   "mimetype": "text/x-python",
   "name": "python",
   "nbconvert_exporter": "python",
   "pygments_lexer": "ipython3",
   "version": "3.8.3"
  }
 },
 "nbformat": 4,
 "nbformat_minor": 4
}
